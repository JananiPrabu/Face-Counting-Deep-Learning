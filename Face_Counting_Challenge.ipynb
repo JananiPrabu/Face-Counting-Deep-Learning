{
 "cells": [
  {
   "cell_type": "code",
   "execution_count": 2,
   "metadata": {
    "colab": {},
    "colab_type": "code",
    "id": "hoW5hy1jLqPk"
   },
   "outputs": [],
   "source": [
    "import os\n",
    "import numpy as np\n",
    "import pandas as pd\n",
    "from scipy import misc\n",
    "from sklearn.metrics import accuracy_score\n",
    "import tensorflow as tf"
   ]
  },
  {
   "cell_type": "markdown",
   "metadata": {
    "colab_type": "text",
    "id": "2cJR4lNdPeP7"
   },
   "source": []
  },
  {
   "cell_type": "code",
   "execution_count": 3,
   "metadata": {
    "colab": {
     "base_uri": "https://localhost:8080/",
     "height": 110
    },
    "colab_type": "code",
    "id": "sCakMmrr1xZj",
    "outputId": "c30f36aa-6306-4abc-9817-91a66baed60e"
   },
   "outputs": [
    {
     "name": "stdout",
     "output_type": "stream",
     "text": [
      "WARNING:tensorflow:From <ipython-input-3-4a3f57d5652e>:2: is_gpu_available (from tensorflow.python.framework.test_util) is deprecated and will be removed in a future version.\n",
      "Instructions for updating:\n",
      "Use `tf.config.list_physical_devices('GPU')` instead.\n"
     ]
    },
    {
     "data": {
      "text/plain": [
       "True"
      ]
     },
     "execution_count": 3,
     "metadata": {
      "tags": []
     },
     "output_type": "execute_result"
    }
   ],
   "source": [
    "import tensorflow as tf\n",
    "tf.test.is_gpu_available()"
   ]
  },
  {
   "cell_type": "code",
   "execution_count": 4,
   "metadata": {
    "colab": {
     "base_uri": "https://localhost:8080/",
     "height": 129
    },
    "colab_type": "code",
    "id": "uS5BwQ_WhILu",
    "outputId": "18506efc-1d27-4781-9121-3c10a8cae49a"
   },
   "outputs": [
    {
     "name": "stdout",
     "output_type": "stream",
     "text": [
      "Go to this URL in a browser: https://accounts.google.com/o/oauth2/auth?client_id=947318989803-6bn6qk8qdgf4n4g3pfee6491hc0brc4i.apps.googleusercontent.com&redirect_uri=urn%3aietf%3awg%3aoauth%3a2.0%3aoob&response_type=code&scope=email%20https%3a%2f%2fwww.googleapis.com%2fauth%2fdocs.test%20https%3a%2f%2fwww.googleapis.com%2fauth%2fdrive%20https%3a%2f%2fwww.googleapis.com%2fauth%2fdrive.photos.readonly%20https%3a%2f%2fwww.googleapis.com%2fauth%2fpeopleapi.readonly\n",
      "\n",
      "Enter your authorization code:\n",
      "··········\n",
      "Mounted at /content/gdrive\n"
     ]
    }
   ],
   "source": [
    "from google.colab import drive\n",
    "drive.mount('/content/gdrive')"
   ]
  },
  {
   "cell_type": "code",
   "execution_count": 5,
   "metadata": {
    "colab": {
     "base_uri": "https://localhost:8080/",
     "height": 206
    },
    "colab_type": "code",
    "id": "brUDIqzRitHY",
    "outputId": "0b4cb815-d180-4cb2-c5fc-909bcbc87b0c"
   },
   "outputs": [
    {
     "data": {
      "text/html": [
       "<div>\n",
       "<style scoped>\n",
       "    .dataframe tbody tr th:only-of-type {\n",
       "        vertical-align: middle;\n",
       "    }\n",
       "\n",
       "    .dataframe tbody tr th {\n",
       "        vertical-align: top;\n",
       "    }\n",
       "\n",
       "    .dataframe thead th {\n",
       "        text-align: right;\n",
       "    }\n",
       "</style>\n",
       "<table border=\"1\" class=\"dataframe\">\n",
       "  <thead>\n",
       "    <tr style=\"text-align: right;\">\n",
       "      <th></th>\n",
       "      <th>Name</th>\n",
       "      <th>HeadCount</th>\n",
       "    </tr>\n",
       "  </thead>\n",
       "  <tbody>\n",
       "    <tr>\n",
       "      <th>0</th>\n",
       "      <td>10001.jpg</td>\n",
       "      <td>4</td>\n",
       "    </tr>\n",
       "    <tr>\n",
       "      <th>1</th>\n",
       "      <td>10002.jpg</td>\n",
       "      <td>4</td>\n",
       "    </tr>\n",
       "    <tr>\n",
       "      <th>2</th>\n",
       "      <td>10003.jpg</td>\n",
       "      <td>2</td>\n",
       "    </tr>\n",
       "    <tr>\n",
       "      <th>3</th>\n",
       "      <td>10004.jpg</td>\n",
       "      <td>3</td>\n",
       "    </tr>\n",
       "    <tr>\n",
       "      <th>4</th>\n",
       "      <td>10006.jpg</td>\n",
       "      <td>4</td>\n",
       "    </tr>\n",
       "  </tbody>\n",
       "</table>\n",
       "</div>"
      ],
      "text/plain": [
       "        Name  HeadCount\n",
       "0  10001.jpg          4\n",
       "1  10002.jpg          4\n",
       "2  10003.jpg          2\n",
       "3  10004.jpg          3\n",
       "4  10006.jpg          4"
      ]
     },
     "execution_count": 5,
     "metadata": {
      "tags": []
     },
     "output_type": "execute_result"
    }
   ],
   "source": [
    "train=pd.read_csv('/content/gdrive/My Drive/Colab Notebooks/Face Counting Challenge/train.csv')\n",
    "train.head()"
   ]
  },
  {
   "cell_type": "code",
   "execution_count": 6,
   "metadata": {
    "colab": {
     "base_uri": "https://localhost:8080/",
     "height": 206
    },
    "colab_type": "code",
    "id": "MTott5iQhmaI",
    "outputId": "a27a7c93-0d36-409c-d46e-391d6d67aebf"
   },
   "outputs": [
    {
     "data": {
      "text/html": [
       "<div>\n",
       "<style scoped>\n",
       "    .dataframe tbody tr th:only-of-type {\n",
       "        vertical-align: middle;\n",
       "    }\n",
       "\n",
       "    .dataframe tbody tr th {\n",
       "        vertical-align: top;\n",
       "    }\n",
       "\n",
       "    .dataframe thead th {\n",
       "        text-align: right;\n",
       "    }\n",
       "</style>\n",
       "<table border=\"1\" class=\"dataframe\">\n",
       "  <thead>\n",
       "    <tr style=\"text-align: right;\">\n",
       "      <th></th>\n",
       "      <th>Name</th>\n",
       "    </tr>\n",
       "  </thead>\n",
       "  <tbody>\n",
       "    <tr>\n",
       "      <th>0</th>\n",
       "      <td>10005.jpg</td>\n",
       "    </tr>\n",
       "    <tr>\n",
       "      <th>1</th>\n",
       "      <td>10009.jpg</td>\n",
       "    </tr>\n",
       "    <tr>\n",
       "      <th>2</th>\n",
       "      <td>10015.jpg</td>\n",
       "    </tr>\n",
       "    <tr>\n",
       "      <th>3</th>\n",
       "      <td>10022.jpg</td>\n",
       "    </tr>\n",
       "    <tr>\n",
       "      <th>4</th>\n",
       "      <td>10023.jpg</td>\n",
       "    </tr>\n",
       "  </tbody>\n",
       "</table>\n",
       "</div>"
      ],
      "text/plain": [
       "        Name\n",
       "0  10005.jpg\n",
       "1  10009.jpg\n",
       "2  10015.jpg\n",
       "3  10022.jpg\n",
       "4  10023.jpg"
      ]
     },
     "execution_count": 6,
     "metadata": {
      "tags": []
     },
     "output_type": "execute_result"
    }
   ],
   "source": [
    "test=pd.read_csv('/content/gdrive/My Drive/Colab Notebooks/Face Counting Challenge/test_Rj9YEaI.csv')\n",
    "test.head()"
   ]
  },
  {
   "cell_type": "code",
   "execution_count": 7,
   "metadata": {
    "colab": {
     "base_uri": "https://localhost:8080/",
     "height": 206
    },
    "colab_type": "code",
    "id": "Pfs9BgbzlsTo",
    "outputId": "24404224-5546-4461-81e7-211f7b00a22b"
   },
   "outputs": [
    {
     "data": {
      "text/html": [
       "<div>\n",
       "<style scoped>\n",
       "    .dataframe tbody tr th:only-of-type {\n",
       "        vertical-align: middle;\n",
       "    }\n",
       "\n",
       "    .dataframe tbody tr th {\n",
       "        vertical-align: top;\n",
       "    }\n",
       "\n",
       "    .dataframe thead th {\n",
       "        text-align: right;\n",
       "    }\n",
       "</style>\n",
       "<table border=\"1\" class=\"dataframe\">\n",
       "  <thead>\n",
       "    <tr style=\"text-align: right;\">\n",
       "      <th></th>\n",
       "      <th>Name</th>\n",
       "      <th>width</th>\n",
       "      <th>height</th>\n",
       "      <th>xmin</th>\n",
       "      <th>ymin</th>\n",
       "      <th>xmax</th>\n",
       "      <th>ymax</th>\n",
       "    </tr>\n",
       "  </thead>\n",
       "  <tbody>\n",
       "    <tr>\n",
       "      <th>0</th>\n",
       "      <td>10001.jpg</td>\n",
       "      <td>612</td>\n",
       "      <td>408</td>\n",
       "      <td>192</td>\n",
       "      <td>199</td>\n",
       "      <td>230</td>\n",
       "      <td>235</td>\n",
       "    </tr>\n",
       "    <tr>\n",
       "      <th>1</th>\n",
       "      <td>10001.jpg</td>\n",
       "      <td>612</td>\n",
       "      <td>408</td>\n",
       "      <td>247</td>\n",
       "      <td>168</td>\n",
       "      <td>291</td>\n",
       "      <td>211</td>\n",
       "    </tr>\n",
       "    <tr>\n",
       "      <th>2</th>\n",
       "      <td>10001.jpg</td>\n",
       "      <td>612</td>\n",
       "      <td>408</td>\n",
       "      <td>321</td>\n",
       "      <td>176</td>\n",
       "      <td>366</td>\n",
       "      <td>222</td>\n",
       "    </tr>\n",
       "    <tr>\n",
       "      <th>3</th>\n",
       "      <td>10001.jpg</td>\n",
       "      <td>612</td>\n",
       "      <td>408</td>\n",
       "      <td>355</td>\n",
       "      <td>183</td>\n",
       "      <td>387</td>\n",
       "      <td>214</td>\n",
       "    </tr>\n",
       "    <tr>\n",
       "      <th>4</th>\n",
       "      <td>10002.jpg</td>\n",
       "      <td>612</td>\n",
       "      <td>408</td>\n",
       "      <td>339</td>\n",
       "      <td>165</td>\n",
       "      <td>378</td>\n",
       "      <td>202</td>\n",
       "    </tr>\n",
       "  </tbody>\n",
       "</table>\n",
       "</div>"
      ],
      "text/plain": [
       "        Name  width  height  xmin  ymin  xmax  ymax\n",
       "0  10001.jpg    612     408   192   199   230   235\n",
       "1  10001.jpg    612     408   247   168   291   211\n",
       "2  10001.jpg    612     408   321   176   366   222\n",
       "3  10001.jpg    612     408   355   183   387   214\n",
       "4  10002.jpg    612     408   339   165   378   202"
      ]
     },
     "execution_count": 7,
     "metadata": {
      "tags": []
     },
     "output_type": "execute_result"
    }
   ],
   "source": [
    "bbox=pd.read_csv('/content/gdrive/My Drive/Colab Notebooks/Face Counting Challenge/bbox_train.csv')\n",
    "bbox.head()"
   ]
  },
  {
   "cell_type": "code",
   "execution_count": 8,
   "metadata": {
    "colab": {},
    "colab_type": "code",
    "id": "Xgp8JzKWl4_j"
   },
   "outputs": [],
   "source": [
    "%matplotlib inline\n",
    "import matplotlib.pyplot as plt\n",
    "import matplotlib.gridspec as gridspec\n",
    "from matplotlib.patches import Rectangle\n",
    "import matplotlib.patches as patches\n",
    "\n",
    "import os\n",
    "import json\n",
    "import time\n",
    "import numpy as np\n",
    "from PIL import Image\n",
    "import torch\n",
    "from tqdm import tqdm\n",
    "import cv2\n"
   ]
  },
  {
   "cell_type": "code",
   "execution_count": null,
   "metadata": {
    "colab": {
     "base_uri": "https://localhost:8080/",
     "height": 35
    },
    "colab_type": "code",
    "id": "2YThCuczpBJj",
    "outputId": "0fbb8179-3073-4ebb-834b-6e35f9512846"
   },
   "outputs": [
    {
     "name": "stderr",
     "output_type": "stream",
     "text": [
      "100%|██████████| 2463/2463 [12:37<00:00,  3.25it/s]\n"
     ]
    }
   ],
   "source": [
    "temp=[]\n",
    "facedetector = cv2.CascadeClassifier(cv2.data.haarcascades + 'haarcascade_frontalface_alt.xml')\n",
    "for i in tqdm(range(test.shape[0])):\n",
    "  # print(i)\n",
    "  z='/content/gdrive/My Drive/Colab Notebooks/Face Counting Challenge/image_data/' + test['Name'][i]\n",
    "  # print(z)\n",
    "  img=cv2.imread(z,0)\n",
    "  face=facedetector.detectMultiScale(img,\n",
    "                                     scaleFactor=1.05,\n",
    "                                     minNeighbors=3,\n",
    "                                     minSize=(30,30)\n",
    "                                     )\n",
    "  temp.append(len(face))\n",
    "\n"
   ]
  },
  {
   "cell_type": "code",
   "execution_count": null,
   "metadata": {
    "colab": {
     "base_uri": "https://localhost:8080/",
     "height": 55
    },
    "colab_type": "code",
    "id": "kbtLSxPHzQmC",
    "outputId": "06b1fd88-a8bb-4c2b-bfcf-22d0804c4409"
   },
   "outputs": [
    {
     "name": "stdout",
     "output_type": "stream",
     "text": [
      "[2, 2, 1, 4, 4, 4, 3, 5, 3, 2, 0, 3, 1, 1, 0, 4, 2, 2, 1, 1, 1, 3, 2, 3, 3, 3, 1, 2, 0, 2, 2, 1, 6, 8, 3, 3, 1, 3, 5, 2, 2, 0, 1, 1, 3, 3, 3, 2, 2, 3, 3, 0, 3, 3, 7, 2, 1, 2, 2, 1, 2, 2, 5, 2, 2, 2, 2, 2, 5, 5, 6, 6, 4, 3, 3, 3, 9, 1, 0, 2, 0, 2, 1, 2, 0, 2, 6, 7, 3, 0, 0, 2, 0, 0, 3, 4, 3, 14, 4, 5, 6, 4, 1, 5, 3, 6, 1, 3, 5, 2, 6, 1, 1, 5, 3, 0, 5, 0, 1, 2, 1, 2, 1, 4, 1, 2, 3, 1, 0, 1, 2, 2, 5, 1, 2, 3, 1, 5, 2, 0, 2, 2, 3, 4, 0, 0, 0, 0, 2, 4, 1, 2, 3, 5, 2, 1, 4, 1, 5, 2, 0, 4, 2, 0, 0, 0, 1, 2, 1, 1, 1, 0, 3, 0, 1, 2, 2, 2, 0, 3, 3, 0, 4, 3, 2, 6, 3, 1, 1, 3, 1, 2, 1, 1, 2, 2, 3, 1, 1, 1, 5, 6, 0, 1, 2, 1, 2, 2, 4, 4, 3, 3, 1, 0, 2, 2, 1, 3, 4, 3, 4, 1, 3, 3, 4, 1, 6, 3, 4, 5, 2, 0, 2, 3, 3, 9, 3, 2, 3, 3, 0, 0, 1, 1, 1, 2, 3, 9, 1, 3, 2, 3, 2, 0, 3, 4, 1, 3, 3, 2, 1, 3, 2, 2, 3, 4, 3, 3, 3, 2, 0, 2, 2, 1, 2, 2, 7, 3, 3, 2, 2, 3, 4, 1, 5, 1, 2, 1, 1, 3, 1, 3, 3, 3, 2, 1, 2, 2, 3, 0, 4, 4, 2, 2, 1, 2, 0, 2, 2, 8, 1, 0, 3, 4, 3, 7, 7, 5, 4, 2, 1, 3, 3, 4, 0, 3, 8, 8, 2, 1, 5, 0, 3, 2, 4, 2, 3, 9, 3, 2, 2, 1, 2, 1, 3, 6, 4, 6, 2, 4, 1, 2, 4, 2, 4, 4, 0, 2, 1, 6, 6, 2, 4, 4, 1, 2, 0, 2, 8, 5, 3, 1, 3, 1, 4, 1, 2, 7, 1, 5, 2, 4, 3, 1, 3, 2, 1, 2, 2, 4, 0, 2, 4, 1, 2, 2, 2, 3, 3, 1, 1, 1, 4, 2, 0, 1, 4, 0, 1, 5, 4, 0, 1, 2, 3, 2, 1, 2, 0, 0, 1, 3, 0, 0, 2, 5, 2, 3, 2, 3, 5, 5, 9, 2, 6, 2, 0, 1, 4, 7, 0, 0, 2, 0, 2, 2, 5, 5, 2, 5, 4, 1, 4, 1, 2, 3, 2, 3, 1, 6, 1, 2, 4, 0, 2, 4, 2, 4, 5, 3, 1, 3, 2, 0, 2, 1, 2, 2, 2, 1, 0, 0, 2, 1, 1, 0, 2, 0, 2, 7, 4, 1, 2, 3, 3, 5, 2, 2, 3, 1, 4, 2, 1, 5, 1, 0, 1, 3, 2, 5, 2, 1, 1, 1, 2, 1, 2, 2, 2, 2, 6, 4, 0, 0, 1, 3, 3, 12, 9, 1, 3, 5, 2, 0, 4, 1, 2, 4, 2, 3, 3, 3, 4, 4, 6, 2, 3, 2, 15, 4, 1, 0, 3, 4, 3, 2, 2, 1, 1, 0, 5, 5, 5, 5, 1, 2, 1, 1, 2, 3, 1, 0, 4, 3, 5, 1, 4, 4, 4, 3, 1, 3, 6, 3, 2, 1, 4, 2, 2, 1, 1, 2, 3, 0, 2, 3, 5, 4, 3, 3, 3, 3, 1, 1, 0, 2, 2, 3, 3, 1, 5, 0, 3, 1, 4, 3, 1, 2, 1, 0, 2, 2, 3, 2, 2, 2, 4, 9, 4, 3, 3, 2, 4, 8, 2, 3, 3, 1, 4, 2, 3, 3, 2, 3, 1, 2, 5, 1, 5, 1, 1, 6, 4, 1, 1, 3, 2, 8, 2, 1, 3, 4, 1, 3, 2, 4, 1, 0, 0, 2, 6, 2, 4, 0, 0, 2, 3, 2, 2, 1, 3, 3, 4, 6, 4, 3, 2, 6, 3, 1, 2, 3, 4, 3, 1, 1, 2, 2, 0, 3, 5, 3, 1, 2, 2, 5, 1, 3, 5, 0, 2, 3, 1, 2, 2, 3, 2, 1, 0, 0, 2, 3, 3, 2, 3, 2, 1, 1, 2, 1, 1, 1, 1, 2, 3, 2, 2, 1, 2, 0, 2, 2, 0, 12, 0, 2, 10, 4, 1, 5, 5, 5, 2, 1, 1, 2, 1, 2, 4, 2, 1, 3, 2, 3, 1, 2, 1, 1, 2, 2, 3, 3, 2, 2, 2, 7, 7, 3, 3, 4, 0, 5, 3, 1, 3, 1, 4, 1, 0, 3, 2, 0, 5, 2, 3, 2, 1, 4, 2, 3, 5, 1, 1, 0, 3, 2, 3, 0, 8, 1, 2, 3, 0, 5, 1, 7, 2, 2, 2, 0, 5, 3, 3, 4, 1, 2, 0, 0, 2, 0, 2, 3, 3, 2, 2, 3, 1, 4, 1, 3, 3, 4, 1, 1, 2, 1, 3, 1, 6, 4, 2, 3, 1, 1, 1, 1, 0, 5, 3, 2, 3, 6, 0, 2, 4, 3, 5, 3, 0, 0, 2, 1, 3, 1, 2, 1, 2, 0, 1, 1, 2, 3, 2, 2, 2, 4, 2, 3, 4, 1, 1, 1, 3, 1, 6, 0, 2, 2, 0, 3, 3, 3, 2, 2, 5, 1, 1, 2, 3, 0, 1, 2, 4, 2, 2, 1, 4, 4, 1, 1, 4, 3, 1, 1, 0, 1, 1, 7, 0, 3, 2, 4, 2, 2, 3, 1, 4, 2, 0, 6, 2, 3, 2, 2, 3, 4, 4, 5, 1, 1, 0, 2, 2, 1, 1, 2, 3, 0, 2, 4, 2, 2, 3, 0, 1, 2, 2, 3, 4, 4, 4, 2, 3, 3, 4, 0, 2, 2, 4, 1, 4, 3, 3, 1, 1, 2, 4, 2, 4, 4, 4, 2, 2, 3, 4, 1, 0, 2, 3, 5, 3, 3, 1, 0, 1, 1, 1, 2, 1, 2, 0, 1, 4, 4, 6, 5, 3, 3, 1, 4, 2, 3, 3, 3, 3, 3, 3, 0, 4, 3, 0, 2, 1, 3, 3, 2, 2, 4, 1, 2, 5, 17, 5, 4, 8, 6, 2, 4, 3, 4, 3, 2, 2, 2, 2, 4, 1, 3, 3, 4, 1, 7, 0, 0, 8, 0, 2, 4, 2, 0, 2, 4, 4, 2, 6, 6, 4, 0, 2, 4, 0, 1, 6, 3, 1, 1, 4, 0, 2, 1, 2, 4, 3, 2, 3, 2, 1, 4, 4, 3, 3, 5, 2, 2, 0, 3, 1, 0, 2, 1, 2, 2, 2, 3, 4, 0, 3, 1, 4, 4, 4, 1, 0, 0, 1, 2, 2, 3, 2, 3, 4, 2, 5, 3, 3, 3, 2, 1, 1, 3, 2, 2, 4, 1, 2, 3, 3, 4, 2, 3, 1, 2, 2, 3, 3, 3, 3, 2, 2, 3, 2, 1, 0, 4, 3, 1, 4, 2, 0, 4, 4, 3, 8, 7, 1, 2, 1, 2, 0, 2, 1, 0, 0, 3, 4, 0, 4, 0, 0, 2, 1, 0, 5, 0, 1, 1, 0, 4, 0, 1, 0, 1, 0, 0, 0, 2, 2, 0, 1, 2, 1, 3, 1, 2, 4, 0, 2, 1, 1, 1, 3, 2, 1, 2, 4, 3, 2, 2, 3, 3, 4, 2, 2, 4, 2, 0, 5, 5, 2, 7, 4, 4, 0, 2, 2, 2, 2, 10, 6, 5, 0, 3, 4, 2, 1, 3, 3, 1, 3, 4, 3, 5, 2, 5, 1, 2, 0, 1, 3, 2, 5, 2, 0, 3, 1, 1, 5, 1, 1, 5, 2, 2, 8, 7, 7, 1, 4, 7, 2, 5, 4, 2, 1, 3, 4, 3, 4, 3, 5, 3, 5, 4, 3, 3, 3, 3, 3, 2, 3, 3, 2, 2, 1, 1, 1, 3, 1, 3, 4, 1, 6, 1, 0, 2, 5, 4, 7, 0, 4, 0, 6, 1, 2, 0, 5, 6, 7, 7, 7, 7, 4, 5, 4, 0, 0, 4, 2, 0, 1, 2, 5, 1, 2, 3, 2, 3, 2, 2, 1, 2, 3, 3, 2, 0, 1, 4, 7, 2, 2, 2, 2, 0, 3, 2, 0, 5, 3, 2, 2, 1, 4, 1, 4, 5, 1, 4, 3, 3, 3, 6, 1, 3, 1, 0, 3, 1, 0, 2, 0, 5, 0, 2, 2, 0, 2, 2, 2, 1, 3, 1, 0, 1, 3, 2, 1, 1, 2, 1, 1, 2, 2, 0, 0, 1, 4, 0, 4, 1, 3, 7, 2, 3, 1, 1, 2, 1, 2, 1, 1, 1, 2, 2, 0, 4, 1, 0, 3, 4, 10, 4, 1, 1, 0, 2, 3, 1, 5, 6, 3, 2, 0, 0, 4, 4, 2, 1, 7, 3, 5, 0, 4, 5, 2, 2, 2, 2, 4, 3, 2, 1, 5, 1, 4, 0, 4, 3, 4, 3, 3, 4, 3, 0, 0, 5, 3, 5, 2, 1, 3, 3, 2, 2, 1, 1, 1, 2, 2, 4, 1, 2, 3, 1, 4, 1, 3, 1, 6, 3, 11, 4, 5, 5, 4, 3, 1, 1, 3, 3, 3, 5, 0, 1, 2, 5, 2, 3, 1, 3, 5, 1, 7, 4, 0, 4, 2, 4, 0, 3, 3, 0, 4, 2, 3, 4, 3, 3, 2, 2, 1, 3, 3, 2, 1, 1, 2, 2, 2, 2, 2, 2, 3, 1, 3, 4, 3, 3, 2, 2, 2, 4, 2, 3, 0, 1, 1, 3, 3, 1, 3, 3, 2, 6, 6, 1, 5, 4, 4, 2, 4, 4, 2, 4, 3, 5, 4, 3, 0, 1, 7, 0, 0, 3, 4, 0, 0, 1, 8, 3, 6, 3, 1, 2, 1, 0, 0, 2, 4, 1, 1, 1, 2, 3, 2, 2, 2, 3, 5, 1, 0, 2, 0, 0, 5, 1, 3, 4, 2, 3, 1, 4, 1, 0, 3, 5, 1, 0, 4, 0, 0, 1, 3, 2, 0, 3, 5, 6, 5, 3, 1, 2, 0, 2, 7, 7, 3, 5, 1, 0, 2, 2, 6, 2, 2, 2, 5, 1, 1, 2, 6, 2, 2, 5, 4, 0, 3, 4, 0, 4, 1, 5, 2, 5, 0, 2, 2, 0, 1, 3, 4, 3, 2, 1, 2, 2, 4, 1, 0, 1, 0, 4, 3, 2, 1, 0, 4, 4, 1, 2, 1, 0, 1, 0, 2, 5, 5, 2, 3, 7, 2, 4, 5, 1, 2, 2, 4, 3, 5, 3, 3, 4, 1, 3, 3, 5, 5, 5, 4, 3, 5, 3, 1, 1, 5, 3, 1, 3, 1, 1, 4, 1, 2, 2, 6, 0, 3, 5, 1, 1, 0, 1, 2, 0, 2, 0, 3, 1, 0, 0, 5, 1, 3, 4, 3, 2, 1, 2, 1, 3, 2, 1, 5, 3, 4, 3, 1, 2, 1, 2, 3, 1, 1, 1, 2, 1, 0, 3, 1, 3, 1, 0, 1, 0, 0, 2, 0, 1, 1, 2, 2, 1, 2, 2, 1, 2, 3, 0, 2, 3, 2, 4, 1, 3, 1, 2, 1, 1, 1, 0, 3, 0, 1, 0, 5, 1, 1, 2, 5, 5, 6, 2, 0, 3, 4, 3, 2, 4, 2, 1, 3, 6, 2, 4, 3, 0, 2, 1, 0, 5, 1, 1, 1, 0, 2, 5, 2, 3, 5, 9, 7, 1, 1, 1, 3, 3, 4, 4, 2, 5, 2, 3, 3, 4, 2, 3, 0, 1, 3, 3, 5, 6, 3, 2, 4, 0, 2, 1, 3, 3, 1, 1, 3, 1, 2, 0, 4, 5, 3, 2, 1, 1, 3, 2, 0, 3, 1, 4, 3, 3, 4, 3, 4, 2, 2, 3, 0, 0, 0, 0, 0, 3, 2, 4, 2, 4, 4, 4, 1, 3, 3, 5, 0, 1, 1, 1, 1, 3, 0, 2, 3, 5, 0, 2, 3, 0, 0, 4, 1, 4, 1, 3, 2, 3, 2, 1, 3, 2, 2, 2, 4, 4, 1, 1, 1, 4, 7, 2, 2, 6, 3, 1, 4, 3, 2, 0, 2, 5, 1, 0, 4, 3, 2, 3, 0, 3, 2, 0, 3, 1, 2, 3, 3, 3, 7, 3, 4, 3, 1, 4, 1, 5, 4, 2, 2, 4, 6, 2, 4, 2, 4, 5, 3, 1, 0, 7, 5, 5, 3, 2, 2, 4, 3, 1, 1, 3, 2, 2, 2, 2, 0, 3, 4, 4, 1, 2, 3, 0, 6, 5, 2, 2, 6, 1, 3, 0, 4, 2, 2, 2, 1, 0, 3, 0, 0, 2, 0, 2, 1, 0, 1, 2, 0, 4, 4, 4, 1, 0, 1, 2, 4, 0, 0, 3, 4, 1, 3, 2, 0, 5, 5, 2, 2, 1, 2, 1, 1, 2, 0, 2, 3, 1, 2, 1, 1, 2, 3, 2, 4, 1, 3, 5, 1, 0, 2, 2, 0, 1, 0, 1, 1, 1, 4, 0, 0, 2, 0, 1, 2, 0, 3, 2, 1, 0, 0, 3, 2, 1, 2, 2, 3, 2, 2, 6, 0, 3, 1, 1, 5, 1, 1, 3, 1, 2, 3, 3, 3, 0, 1, 3, 2, 0, 1, 2, 2, 1, 3, 3, 3, 2, 1, 2, 0, 1, 2, 3, 3, 4, 4, 3, 1, 0, 1, 0, 4, 2, 1, 2, 3, 4, 0, 1, 0, 4, 3, 3, 0, 4, 4, 2, 0, 3, 3, 1, 3, 4, 1, 1, 8, 0, 2, 2, 1, 1, 1, 0, 2, 0, 3, 3, 3, 2, 2, 4, 1, 1, 3, 1, 0, 3, 3, 2, 1, 0, 6, 2, 3, 3, 2, 2, 1, 2, 3, 2, 3, 1, 0, 0, 1, 0, 0, 3, 2, 4, 9, 2, 10, 1, 3, 3, 2, 3, 2, 1, 3, 4, 3, 2, 3, 1, 1, 2, 3, 2, 2, 1, 2, 1, 2, 1, 2, 2, 1, 3, 2, 3, 0, 3, 0, 3, 3, 3, 1, 4, 4, 3, 3, 0, 1, 1, 2, 0, 1, 2, 3, 4, 0, 1, 3, 0, 6, 1, 0, 0, 1, 0, 0, 1, 1, 2, 1, 1, 1, 2, 3, 2, 3, 2, 3, 0, 2, 1, 0, 1, 4, 4, 4, 8, 2, 0, 0, 1, 0, 4, 3, 2, 3, 2, 6, 4, 0, 5, 0, 3, 0, 0, 3, 0, 2, 1, 3, 1, 1, 2, 1, 2, 1, 3, 3, 4, 2, 3, 3, 1, 4, 1, 2, 0, 0, 2, 2, 0, 1, 1, 4, 4, 2, 1, 1, 3, 2, 1, 0, 0, 2, 4, 2, 2, 1, 1, 4, 3, 1, 5, 2, 0, 0, 0, 1, 3, 0, 2, 1, 3, 0, 0, 1, 2, 3, 5, 3, 3, 0, 6, 2, 0, 0, 1, 2, 1, 0, 1, 3, 3, 3, 0, 3, 4, 2, 4, 2, 1, 1, 2, 2]\n"
     ]
    }
   ],
   "source": [
    "print(temp)"
   ]
  },
  {
   "cell_type": "code",
   "execution_count": null,
   "metadata": {
    "colab": {},
    "colab_type": "code",
    "id": "BCNzlpAoB2H8"
   },
   "outputs": [],
   "source": [
    "submissions=pd.DataFrame({'Name':test['Name'], 'HeadCount':temp})\n",
    "submissions.to_csv('sub.csv',index=False)"
   ]
  },
  {
   "cell_type": "code",
   "execution_count": null,
   "metadata": {
    "colab": {
     "base_uri": "https://localhost:8080/",
     "height": 206
    },
    "colab_type": "code",
    "id": "anLZ_OWxuuHd",
    "outputId": "3bc94925-5a66-42d7-e20b-30caa1753a0e"
   },
   "outputs": [
    {
     "data": {
      "text/html": [
       "<div>\n",
       "<style scoped>\n",
       "    .dataframe tbody tr th:only-of-type {\n",
       "        vertical-align: middle;\n",
       "    }\n",
       "\n",
       "    .dataframe tbody tr th {\n",
       "        vertical-align: top;\n",
       "    }\n",
       "\n",
       "    .dataframe thead th {\n",
       "        text-align: right;\n",
       "    }\n",
       "</style>\n",
       "<table border=\"1\" class=\"dataframe\">\n",
       "  <thead>\n",
       "    <tr style=\"text-align: right;\">\n",
       "      <th></th>\n",
       "      <th>Name</th>\n",
       "      <th>HeadCount</th>\n",
       "    </tr>\n",
       "  </thead>\n",
       "  <tbody>\n",
       "    <tr>\n",
       "      <th>0</th>\n",
       "      <td>10005.jpg</td>\n",
       "      <td>2</td>\n",
       "    </tr>\n",
       "    <tr>\n",
       "      <th>1</th>\n",
       "      <td>10009.jpg</td>\n",
       "      <td>2</td>\n",
       "    </tr>\n",
       "    <tr>\n",
       "      <th>2</th>\n",
       "      <td>10015.jpg</td>\n",
       "      <td>1</td>\n",
       "    </tr>\n",
       "    <tr>\n",
       "      <th>3</th>\n",
       "      <td>10022.jpg</td>\n",
       "      <td>4</td>\n",
       "    </tr>\n",
       "    <tr>\n",
       "      <th>4</th>\n",
       "      <td>10023.jpg</td>\n",
       "      <td>4</td>\n",
       "    </tr>\n",
       "  </tbody>\n",
       "</table>\n",
       "</div>"
      ],
      "text/plain": [
       "        Name  HeadCount\n",
       "0  10005.jpg          2\n",
       "1  10009.jpg          2\n",
       "2  10015.jpg          1\n",
       "3  10022.jpg          4\n",
       "4  10023.jpg          4"
      ]
     },
     "execution_count": 69,
     "metadata": {
      "tags": []
     },
     "output_type": "execute_result"
    }
   ],
   "source": [
    "submissions.head()"
   ]
  },
  {
   "cell_type": "code",
   "execution_count": null,
   "metadata": {
    "colab": {
     "base_uri": "https://localhost:8080/",
     "height": 17
    },
    "colab_type": "code",
    "id": "ITwBNAW3vNtg",
    "outputId": "a34e2c35-46de-4cea-da2b-d49788f4fc19"
   },
   "outputs": [
    {
     "data": {
      "application/javascript": [
       "\n",
       "    async function download(id, filename, size) {\n",
       "      if (!google.colab.kernel.accessAllowed) {\n",
       "        return;\n",
       "      }\n",
       "      const div = document.createElement('div');\n",
       "      const label = document.createElement('label');\n",
       "      label.textContent = `Downloading \"${filename}\": `;\n",
       "      div.appendChild(label);\n",
       "      const progress = document.createElement('progress');\n",
       "      progress.max = size;\n",
       "      div.appendChild(progress);\n",
       "      document.body.appendChild(div);\n",
       "\n",
       "      const buffers = [];\n",
       "      let downloaded = 0;\n",
       "\n",
       "      const channel = await google.colab.kernel.comms.open(id);\n",
       "      // Send a message to notify the kernel that we're ready.\n",
       "      channel.send({})\n",
       "\n",
       "      for await (const message of channel.messages) {\n",
       "        // Send a message to notify the kernel that we're ready.\n",
       "        channel.send({})\n",
       "        if (message.buffers) {\n",
       "          for (const buffer of message.buffers) {\n",
       "            buffers.push(buffer);\n",
       "            downloaded += buffer.byteLength;\n",
       "            progress.value = downloaded;\n",
       "          }\n",
       "        }\n",
       "      }\n",
       "      const blob = new Blob(buffers, {type: 'application/binary'});\n",
       "      const a = document.createElement('a');\n",
       "      a.href = window.URL.createObjectURL(blob);\n",
       "      a.download = filename;\n",
       "      div.appendChild(a);\n",
       "      a.click();\n",
       "      div.remove();\n",
       "    }\n",
       "  "
      ],
      "text/plain": [
       "<IPython.core.display.Javascript object>"
      ]
     },
     "metadata": {
      "tags": []
     },
     "output_type": "display_data"
    },
    {
     "data": {
      "application/javascript": [
       "download(\"download_4fdba7d8-2d42-466c-ac73-c90e533a04cb\", \"sub.csv\", 29581)"
      ],
      "text/plain": [
       "<IPython.core.display.Javascript object>"
      ]
     },
     "metadata": {
      "tags": []
     },
     "output_type": "display_data"
    }
   ],
   "source": [
    "from google.colab import files\n",
    "files.download(\"sub.csv\")"
   ]
  },
  {
   "cell_type": "code",
   "execution_count": null,
   "metadata": {
    "colab": {},
    "colab_type": "code",
    "id": "q_vtMVPsvx3I"
   },
   "outputs": [],
   "source": [
    "### Putting boxes"
   ]
  },
  {
   "cell_type": "code",
   "execution_count": null,
   "metadata": {
    "colab": {
     "base_uri": "https://localhost:8080/",
     "height": 35
    },
    "colab_type": "code",
    "id": "mfAgwcJp46RD",
    "outputId": "739cc074-f04d-4d4f-ecbe-53795809ce77"
   },
   "outputs": [
    {
     "name": "stdout",
     "output_type": "stream",
     "text": [
      "no of faces: 1\n"
     ]
    }
   ],
   "source": [
    "my=cv2.imread('/content/gdrive/My Drive/Colab Notebooks/Face Counting Challenge/image_data/' + '10004.jpg')\n",
    "facedetector = cv2.CascadeClassifier(cv2.data.haarcascades + 'haarcascade_frontalface_alt.xml')\n",
    "face=facedetector.detectMultiScale(my,\n",
    "                                  scaleFactor=1.05,\n",
    "                                  minNeighbors=3,\n",
    "                                  minSize=(30,30)\n",
    "                                  )\n",
    "print('no of faces:', len(face))\n"
   ]
  },
  {
   "cell_type": "code",
   "execution_count": null,
   "metadata": {
    "colab": {
     "base_uri": "https://localhost:8080/",
     "height": 306
    },
    "colab_type": "code",
    "id": "rmFpZMbv5gpE",
    "outputId": "88eaeb30-1ae0-4a12-9c4c-187f2f29d534"
   },
   "outputs": [
    {
     "name": "stdout",
     "output_type": "stream",
     "text": [
      "[[237 154 114 114]]\n",
      "Rectangle(xy=(237, 154), width=114, height=114, angle=0)\n"
     ]
    },
    {
     "data": {
      "image/png": "[encoded data removed]",
      "text/plain": [
       "<Figure size 432x288 with 1 Axes>"
      ]
     },
     "metadata": {
      "needs_background": "light",
      "tags": []
     },
     "output_type": "display_data"
    }
   ],
   "source": [
    "fig,ax=plt.subplots(1)\n",
    "im=cv2.cvtColor(my, cv2.COLOR_BGR2RGB)\n",
    "ax.imshow(im)\n",
    "for x,y,z,h in face:\n",
    "  print(face)\n",
    "  rect=patches.Rectangle((x,y),z,h, linewidth=1, edgecolor='r', facecolor='None')\n",
    "  print(rect)\n",
    "  ax.add_patch(rect)\n",
    "plt.show()"
   ]
  },
  {
   "cell_type": "code",
   "execution_count": null,
   "metadata": {
    "colab": {},
    "colab_type": "code",
    "id": "tgu7yG0N6UFx"
   },
   "outputs": [],
   "source": []
  },
  {
   "cell_type": "code",
   "execution_count": 9,
   "metadata": {
    "colab": {},
    "colab_type": "code",
    "id": "hX0QQGSKCqJt"
   },
   "outputs": [],
   "source": [
    "img_dir='/content/gdrive/My Drive/Colab Notebooks/Face Counting Challenge/image_data/'"
   ]
  },
  {
   "cell_type": "code",
   "execution_count": 10,
   "metadata": {
    "colab": {
     "base_uri": "https://localhost:8080/",
     "height": 35
    },
    "colab_type": "code",
    "id": "cIPoTgYxU17W",
    "outputId": "c6763334-228c-472e-c8da-8fbe3337e39a"
   },
   "outputs": [
    {
     "name": "stderr",
     "output_type": "stream",
     "text": [
      "100%|██████████| 5733/5733 [1:06:48<00:00,  1.43it/s]\n"
     ]
    }
   ],
   "source": [
    "from PIL import Image\n",
    "train_images=np.array(train.iloc[:,0])\n",
    "test_images=np.array(test.iloc[:,0])\n",
    "trainimagearr=[]\n",
    "for i in tqdm(train_images):\n",
    "  img=Image.open(img_dir+i).convert('L').resize((128,128))\n",
    "  trainimagearr.append(np.array(img))\n",
    "\n"
   ]
  },
  {
   "cell_type": "code",
   "execution_count": 11,
   "metadata": {
    "colab": {
     "base_uri": "https://localhost:8080/",
     "height": 35
    },
    "colab_type": "code",
    "id": "HckUdPscXFDx",
    "outputId": "07fd79ff-b8cc-4861-b369-455e49cf4087"
   },
   "outputs": [
    {
     "name": "stderr",
     "output_type": "stream",
     "text": [
      "100%|██████████| 2463/2463 [29:32<00:00,  1.39it/s]\n"
     ]
    }
   ],
   "source": [
    "testimagearr=[]\n",
    "for i in tqdm(test_images):\n",
    "  img=Image.open(img_dir+i).convert('L').resize((128,128))\n",
    "  testimagearr.append(np.array(img))\n",
    "\n"
   ]
  },
  {
   "cell_type": "code",
   "execution_count": 12,
   "metadata": {
    "colab": {
     "base_uri": "https://localhost:8080/",
     "height": 54
    },
    "colab_type": "code",
    "id": "5HuorwmIcYtd",
    "outputId": "37322804-0c3c-45a3-f2e3-314e4280acf7"
   },
   "outputs": [
    {
     "name": "stdout",
     "output_type": "stream",
     "text": [
      "(5733, 128, 128)\n",
      "(2463, 128, 128)\n"
     ]
    }
   ],
   "source": [
    "train_img=np.array(trainimagearr)\n",
    "print(train_img.shape)\n",
    "test_img=np.array(testimagearr)\n",
    "print(test_img.shape)"
   ]
  },
  {
   "cell_type": "code",
   "execution_count": 13,
   "metadata": {
    "colab": {
     "base_uri": "https://localhost:8080/",
     "height": 286
    },
    "colab_type": "code",
    "id": "hw0C_EElcqXb",
    "outputId": "42a8322e-9f10-4061-9df5-21798a8544d0"
   },
   "outputs": [
    {
     "data": {
      "text/plain": [
       "<matplotlib.image.AxesImage at 0x7f685a3daf60>"
      ]
     },
     "execution_count": 13,
     "metadata": {
      "tags": []
     },
     "output_type": "execute_result"
    },
    {
     "data": {
      "image/png": "[encoded data removed]",
      "text/plain": [
       "<Figure size 432x288 with 1 Axes>"
      ]
     },
     "metadata": {
      "needs_background": "light",
      "tags": []
     },
     "output_type": "display_data"
    }
   ],
   "source": [
    "plt.imshow(train_img[0])"
   ]
  },
  {
   "cell_type": "code",
   "execution_count": 14,
   "metadata": {
    "colab": {
     "base_uri": "https://localhost:8080/",
     "height": 54
    },
    "colab_type": "code",
    "id": "4GoAu8UydVUP",
    "outputId": "b9e37f7b-1d0b-4d61-c3f1-c8a69050815e"
   },
   "outputs": [
    {
     "name": "stdout",
     "output_type": "stream",
     "text": [
      "(5733, 128, 128, 1)\n",
      "(2463, 128, 128, 1)\n"
     ]
    }
   ],
   "source": [
    "train_img=train_img.reshape(-1,128,128,1)\n",
    "print(train_img.shape)\n",
    "test_img=test_img.reshape(-1,128,128,1)\n",
    "print(test_img.shape)\n"
   ]
  },
  {
   "cell_type": "code",
   "execution_count": 41,
   "metadata": {
    "colab": {
     "base_uri": "https://localhost:8080/",
     "height": 35
    },
    "colab_type": "code",
    "id": "hAnI8Z3heeIk",
    "outputId": "71b0ac95-39c6-4ee3-e934-de5726e00706"
   },
   "outputs": [
    {
     "name": "stdout",
     "output_type": "stream",
     "text": [
      "(5733, 128, 128, 1)\n"
     ]
    }
   ],
   "source": [
    "# mean, std = train_img.mean(), train_img.std()\n",
    "train_img=train_img/train_img.max()\n",
    "test_img=test_img/test_img.max()\n",
    "# train_img=train_img-mean/std\n",
    "\n",
    "# mean, std = test_img.mean(), test_img.std()\n",
    "# test_img=test_img-mean/std\n",
    "print(train_img.shape)"
   ]
  },
  {
   "cell_type": "code",
   "execution_count": 42,
   "metadata": {
    "colab": {},
    "colab_type": "code",
    "id": "ehLIqaSSem_j"
   },
   "outputs": [],
   "source": [
    "from keras.models import Sequential\n",
    "from keras.layers import Dense, Dropout, Flatten, Convolution2D, MaxPooling2D, Activation\n",
    "from sklearn.model_selection import KFold\n",
    "from sklearn.model_selection import cross_val_score\n",
    "from keras.wrappers.scikit_learn import KerasRegressor\n",
    "from sklearn.preprocessing import StandardScaler\n",
    "from sklearn.pipeline import Pipeline\n",
    "from keras.callbacks import EarlyStopping\n",
    "from keras.optimizers import RMSprop, Adam, Adadelta\n"
   ]
  },
  {
   "cell_type": "code",
   "execution_count": 43,
   "metadata": {
    "colab": {},
    "colab_type": "code",
    "id": "X_s8G3VKfaDI"
   },
   "outputs": [],
   "source": [
    "def baseline_model():\n",
    "  nb_filters=5\n",
    "  nb_conv=5\n",
    "  image_size=128\n",
    "  model=Sequential()\n",
    "\n",
    "  model.add(Convolution2D(nb_filters,(nb_conv,nb_conv), input_shape=(image_size,image_size,1)))\n",
    "  model.add(Activation('relu'))\n",
    "\n",
    "  model.add(Convolution2D(nb_filters,(nb_conv,nb_conv)))\n",
    "  model.add(Activation('relu'))\n",
    "\n",
    "  model.add(Convolution2D(nb_filters,(nb_conv,nb_conv)))\n",
    "  model.add(Activation('relu'))\n",
    "  model.add(Dropout(0.25))\n",
    "\n",
    "  model.add(Convolution2D(nb_filters*2,(nb_conv,nb_conv)))\n",
    "  model.add(Activation('relu'))\n",
    "\n",
    "  model.add(Convolution2D(nb_filters*2,(nb_conv,nb_conv)))\n",
    "  model.add(Activation('relu')) \n",
    "\n",
    "  model.add(Convolution2D(nb_filters*2,(nb_conv,nb_conv)))\n",
    "  model.add(Activation('relu'))\n",
    "  model.add(Dropout(0.25))\n",
    "\n",
    "  model.add(Flatten())\n",
    "\n",
    "  model.add(Dense(256))\n",
    "  model.add(Activation('relu'))\n",
    "  model.add(Dropout(0.25))\n",
    "\n",
    "  model.add(Dense(128))\n",
    "  model.add(Activation('relu'))\n",
    "  model.add(Dropout(0.25))\n",
    "\n",
    "  model.add(Dense(64))\n",
    "  model.add(Activation('relu'))\n",
    "  model.add(Dropout(0.25))\n",
    "\n",
    "  model.add(Dense(1))\n",
    "  model.add(Activation('linear'))\n",
    "\n",
    "  model.compile(loss='mean_squared_error', optimizer=Adadelta())\n",
    "  model.summary()\n",
    "  return model\n",
    "\n",
    "\n",
    "\n",
    "\n"
   ]
  },
  {
   "cell_type": "code",
   "execution_count": 44,
   "metadata": {
    "colab": {},
    "colab_type": "code",
    "id": "8juS27znhxsC"
   },
   "outputs": [],
   "source": [
    "seed=7\n",
    "np.random.seed(seed)\n"
   ]
  },
  {
   "cell_type": "code",
   "execution_count": 45,
   "metadata": {
    "colab": {
     "base_uri": "https://localhost:8080/",
     "height": 1000
    },
    "colab_type": "code",
    "id": "QBljg_7qh-Wr",
    "outputId": "642a00cf-b747-479e-dfbb-66fa79322c82"
   },
   "outputs": [
    {
     "name": "stdout",
     "output_type": "stream",
     "text": [
      "Model: \"sequential_3\"\n",
      "_________________________________________________________________\n",
      "Layer (type)                 Output Shape              Param #   \n",
      "=================================================================\n",
      "conv2d_18 (Conv2D)           (None, 124, 124, 5)       130       \n",
      "_________________________________________________________________\n",
      "activation_30 (Activation)   (None, 124, 124, 5)       0         \n",
      "_________________________________________________________________\n",
      "conv2d_19 (Conv2D)           (None, 120, 120, 5)       630       \n",
      "_________________________________________________________________\n",
      "activation_31 (Activation)   (None, 120, 120, 5)       0         \n",
      "_________________________________________________________________\n",
      "conv2d_20 (Conv2D)           (None, 116, 116, 5)       630       \n",
      "_________________________________________________________________\n",
      "activation_32 (Activation)   (None, 116, 116, 5)       0         \n",
      "_________________________________________________________________\n",
      "dropout_15 (Dropout)         (None, 116, 116, 5)       0         \n",
      "_________________________________________________________________\n",
      "conv2d_21 (Conv2D)           (None, 112, 112, 10)      1260      \n",
      "_________________________________________________________________\n",
      "activation_33 (Activation)   (None, 112, 112, 10)      0         \n",
      "_________________________________________________________________\n",
      "conv2d_22 (Conv2D)           (None, 108, 108, 10)      2510      \n",
      "_________________________________________________________________\n",
      "activation_34 (Activation)   (None, 108, 108, 10)      0         \n",
      "_________________________________________________________________\n",
      "conv2d_23 (Conv2D)           (None, 104, 104, 10)      2510      \n",
      "_________________________________________________________________\n",
      "activation_35 (Activation)   (None, 104, 104, 10)      0         \n",
      "_________________________________________________________________\n",
      "dropout_16 (Dropout)         (None, 104, 104, 10)      0         \n",
      "_________________________________________________________________\n",
      "flatten_3 (Flatten)          (None, 108160)            0         \n",
      "_________________________________________________________________\n",
      "dense_12 (Dense)             (None, 256)               27689216  \n",
      "_________________________________________________________________\n",
      "activation_36 (Activation)   (None, 256)               0         \n",
      "_________________________________________________________________\n",
      "dropout_17 (Dropout)         (None, 256)               0         \n",
      "_________________________________________________________________\n",
      "dense_13 (Dense)             (None, 128)               32896     \n",
      "_________________________________________________________________\n",
      "activation_37 (Activation)   (None, 128)               0         \n",
      "_________________________________________________________________\n",
      "dropout_18 (Dropout)         (None, 128)               0         \n",
      "_________________________________________________________________\n",
      "dense_14 (Dense)             (None, 64)                8256      \n",
      "_________________________________________________________________\n",
      "activation_38 (Activation)   (None, 64)                0         \n",
      "_________________________________________________________________\n",
      "dropout_19 (Dropout)         (None, 64)                0         \n",
      "_________________________________________________________________\n",
      "dense_15 (Dense)             (None, 1)                 65        \n",
      "_________________________________________________________________\n",
      "activation_39 (Activation)   (None, 1)                 0         \n",
      "=================================================================\n",
      "Total params: 27,738,103\n",
      "Trainable params: 27,738,103\n",
      "Non-trainable params: 0\n",
      "_________________________________________________________________\n",
      "Epoch 1/400\n",
      "  2/115 [..............................] - ETA: 10s - loss: 19.2889WARNING:tensorflow:Callbacks method `on_train_batch_end` is slow compared to the batch time (batch time: 0.0458s vs `on_train_batch_end` time: 0.0692s). Check your callbacks.\n",
      "115/115 [==============================] - 10s 90ms/step - loss: 18.3437\n",
      "Epoch 2/400\n",
      "115/115 [==============================] - 10s 89ms/step - loss: 9.5156\n",
      "Epoch 3/400\n",
      "115/115 [==============================] - 10s 90ms/step - loss: 9.2065\n",
      "Epoch 4/400\n",
      "115/115 [==============================] - 10s 90ms/step - loss: 9.0407\n",
      "Epoch 5/400\n",
      "115/115 [==============================] - 10s 90ms/step - loss: 8.7450\n",
      "Epoch 6/400\n",
      "115/115 [==============================] - 10s 90ms/step - loss: 8.6898\n",
      "Epoch 7/400\n",
      "115/115 [==============================] - 10s 90ms/step - loss: 8.7462\n",
      "Epoch 8/400\n",
      "115/115 [==============================] - 10s 90ms/step - loss: 8.6473\n",
      "Epoch 9/400\n",
      "115/115 [==============================] - 10s 90ms/step - loss: 8.5799\n",
      "Epoch 10/400\n",
      "115/115 [==============================] - 10s 90ms/step - loss: 8.6517\n",
      "Epoch 11/400\n",
      "115/115 [==============================] - 10s 90ms/step - loss: 8.5320\n",
      "Epoch 12/400\n",
      "115/115 [==============================] - 10s 90ms/step - loss: 8.4438\n",
      "Epoch 13/400\n",
      "115/115 [==============================] - 10s 90ms/step - loss: 8.4737\n",
      "Epoch 14/400\n",
      "115/115 [==============================] - 10s 90ms/step - loss: 8.4678\n",
      "Epoch 15/400\n",
      "115/115 [==============================] - 10s 90ms/step - loss: 8.3477\n",
      "Epoch 16/400\n",
      "115/115 [==============================] - 10s 90ms/step - loss: 8.4741\n",
      "Epoch 17/400\n",
      "115/115 [==============================] - 10s 90ms/step - loss: 8.3512\n",
      "Epoch 18/400\n",
      "115/115 [==============================] - 10s 90ms/step - loss: 8.3425\n",
      "Epoch 19/400\n",
      "115/115 [==============================] - 10s 90ms/step - loss: 8.4394\n",
      "Epoch 20/400\n",
      "115/115 [==============================] - 10s 90ms/step - loss: 8.2868\n",
      "Epoch 21/400\n",
      "115/115 [==============================] - 10s 90ms/step - loss: 8.2588\n",
      "Epoch 22/400\n",
      "115/115 [==============================] - 10s 90ms/step - loss: 8.2360\n",
      "Epoch 23/400\n",
      "115/115 [==============================] - 10s 90ms/step - loss: 8.3053\n",
      "Epoch 24/400\n",
      "115/115 [==============================] - 10s 90ms/step - loss: 8.3679\n",
      "Epoch 25/400\n",
      "115/115 [==============================] - 10s 90ms/step - loss: 8.2806\n",
      "Epoch 26/400\n",
      "115/115 [==============================] - 10s 90ms/step - loss: 8.1379\n",
      "Epoch 27/400\n",
      "115/115 [==============================] - 10s 90ms/step - loss: 8.0070\n",
      "Epoch 28/400\n",
      "115/115 [==============================] - 10s 90ms/step - loss: 8.2437\n",
      "Epoch 29/400\n",
      "115/115 [==============================] - 10s 90ms/step - loss: 8.1502\n",
      "Epoch 30/400\n",
      "115/115 [==============================] - 10s 90ms/step - loss: 8.2298\n",
      "Epoch 31/400\n",
      "115/115 [==============================] - 10s 90ms/step - loss: 8.1104\n",
      "Epoch 32/400\n",
      "115/115 [==============================] - 10s 90ms/step - loss: 8.0318\n",
      "Epoch 33/400\n",
      "115/115 [==============================] - 10s 90ms/step - loss: 8.2360\n",
      "Epoch 34/400\n",
      "115/115 [==============================] - 10s 90ms/step - loss: 8.1251\n",
      "Epoch 35/400\n",
      "115/115 [==============================] - 10s 90ms/step - loss: 8.0278\n",
      "Epoch 36/400\n",
      "115/115 [==============================] - 10s 90ms/step - loss: 7.9852\n",
      "Epoch 37/400\n",
      "115/115 [==============================] - 10s 90ms/step - loss: 7.9620\n",
      "Epoch 38/400\n",
      "115/115 [==============================] - 10s 90ms/step - loss: 7.9437\n",
      "Epoch 39/400\n",
      "115/115 [==============================] - 10s 90ms/step - loss: 7.9209\n",
      "Epoch 40/400\n",
      "115/115 [==============================] - 10s 90ms/step - loss: 7.9724\n",
      "Epoch 41/400\n",
      "115/115 [==============================] - 10s 90ms/step - loss: 8.0314\n",
      "Epoch 42/400\n",
      "115/115 [==============================] - 10s 90ms/step - loss: 7.9117\n",
      "Epoch 43/400\n",
      "115/115 [==============================] - 10s 90ms/step - loss: 7.8721\n",
      "Epoch 44/400\n",
      "115/115 [==============================] - 10s 90ms/step - loss: 7.9077\n",
      "Epoch 45/400\n",
      "115/115 [==============================] - 10s 90ms/step - loss: 7.9613\n",
      "Epoch 46/400\n",
      "115/115 [==============================] - 10s 90ms/step - loss: 7.8046\n",
      "Epoch 47/400\n",
      "115/115 [==============================] - 10s 90ms/step - loss: 7.8610\n",
      "Epoch 48/400\n",
      "115/115 [==============================] - 10s 90ms/step - loss: 7.8671\n",
      "Epoch 49/400\n",
      "115/115 [==============================] - 10s 90ms/step - loss: 7.8108\n",
      "Epoch 50/400\n",
      "115/115 [==============================] - 10s 90ms/step - loss: 7.7602\n",
      "Epoch 51/400\n",
      "115/115 [==============================] - 10s 90ms/step - loss: 7.7209\n",
      "Epoch 52/400\n",
      "115/115 [==============================] - 10s 90ms/step - loss: 7.9827\n",
      "Epoch 53/400\n",
      "115/115 [==============================] - 10s 90ms/step - loss: 7.8679\n",
      "Epoch 54/400\n",
      "115/115 [==============================] - 10s 90ms/step - loss: 7.6561\n",
      "Epoch 55/400\n",
      "115/115 [==============================] - 10s 90ms/step - loss: 7.7640\n",
      "Epoch 56/400\n",
      "115/115 [==============================] - 10s 90ms/step - loss: 7.7443\n",
      "Epoch 57/400\n",
      "115/115 [==============================] - 10s 90ms/step - loss: 7.7855\n",
      "Epoch 58/400\n",
      "115/115 [==============================] - 10s 90ms/step - loss: 7.7762\n",
      "Epoch 59/400\n",
      "115/115 [==============================] - 10s 90ms/step - loss: 7.7161\n",
      "Epoch 60/400\n",
      "115/115 [==============================] - 10s 90ms/step - loss: 7.5962\n",
      "Epoch 61/400\n",
      "115/115 [==============================] - 10s 90ms/step - loss: 7.7085\n",
      "Epoch 62/400\n",
      "115/115 [==============================] - 10s 90ms/step - loss: 7.6558\n",
      "Epoch 63/400\n",
      "115/115 [==============================] - 10s 90ms/step - loss: 7.6647\n",
      "Epoch 64/400\n",
      "115/115 [==============================] - 10s 90ms/step - loss: 7.6019\n",
      "Epoch 65/400\n",
      "115/115 [==============================] - 10s 90ms/step - loss: 7.5664\n",
      "Epoch 66/400\n",
      "115/115 [==============================] - 10s 90ms/step - loss: 7.7586\n",
      "Epoch 67/400\n",
      "115/115 [==============================] - 10s 90ms/step - loss: 7.6855\n",
      "Epoch 68/400\n",
      "115/115 [==============================] - 10s 90ms/step - loss: 7.6508\n",
      "Epoch 69/400\n",
      "115/115 [==============================] - 10s 90ms/step - loss: 7.6694\n",
      "Epoch 70/400\n",
      "115/115 [==============================] - 10s 90ms/step - loss: 7.4951\n",
      "Epoch 71/400\n",
      "115/115 [==============================] - 10s 90ms/step - loss: 7.5488\n",
      "Epoch 72/400\n",
      "115/115 [==============================] - 10s 90ms/step - loss: 7.5463\n",
      "Epoch 73/400\n",
      "115/115 [==============================] - 10s 90ms/step - loss: 7.6291\n",
      "Epoch 74/400\n",
      "115/115 [==============================] - 10s 90ms/step - loss: 7.5695\n",
      "Epoch 75/400\n",
      "115/115 [==============================] - 10s 90ms/step - loss: 7.4871\n",
      "Epoch 76/400\n",
      "115/115 [==============================] - 10s 90ms/step - loss: 7.4173\n",
      "Epoch 77/400\n",
      "115/115 [==============================] - 10s 90ms/step - loss: 7.6108\n",
      "Epoch 78/400\n",
      "115/115 [==============================] - 10s 90ms/step - loss: 7.3944\n",
      "Epoch 79/400\n",
      "115/115 [==============================] - 10s 90ms/step - loss: 7.4154\n",
      "Epoch 80/400\n",
      "115/115 [==============================] - 10s 90ms/step - loss: 7.3711\n",
      "Epoch 81/400\n",
      "115/115 [==============================] - 10s 90ms/step - loss: 7.4211\n",
      "Epoch 82/400\n",
      "115/115 [==============================] - 10s 90ms/step - loss: 7.4165\n",
      "Epoch 83/400\n",
      "115/115 [==============================] - 10s 90ms/step - loss: 7.4013\n",
      "Epoch 84/400\n",
      "115/115 [==============================] - 10s 90ms/step - loss: 7.3105\n",
      "Epoch 85/400\n",
      "115/115 [==============================] - 10s 90ms/step - loss: 7.4645\n",
      "Epoch 86/400\n",
      "115/115 [==============================] - 10s 90ms/step - loss: 7.3483\n",
      "Epoch 87/400\n",
      "115/115 [==============================] - 10s 90ms/step - loss: 7.5052\n",
      "Epoch 88/400\n",
      "115/115 [==============================] - 10s 90ms/step - loss: 7.3708\n",
      "Epoch 89/400\n",
      "115/115 [==============================] - 10s 90ms/step - loss: 7.3151\n",
      "Epoch 90/400\n",
      "115/115 [==============================] - 10s 90ms/step - loss: 7.2042\n",
      "Epoch 91/400\n",
      "115/115 [==============================] - 10s 90ms/step - loss: 7.4891\n",
      "Epoch 92/400\n",
      "115/115 [==============================] - 10s 90ms/step - loss: 7.4915\n",
      "Epoch 93/400\n",
      "115/115 [==============================] - 10s 90ms/step - loss: 7.5034\n",
      "Epoch 94/400\n",
      "115/115 [==============================] - 10s 90ms/step - loss: 7.2335\n",
      "Epoch 95/400\n",
      "115/115 [==============================] - 10s 90ms/step - loss: 7.3313\n",
      "Epoch 96/400\n",
      "115/115 [==============================] - 10s 90ms/step - loss: 7.2051\n",
      "Epoch 97/400\n",
      "115/115 [==============================] - 10s 90ms/step - loss: 7.1051\n",
      "Epoch 98/400\n",
      "115/115 [==============================] - 10s 90ms/step - loss: 7.4149\n",
      "Epoch 99/400\n",
      "115/115 [==============================] - 10s 90ms/step - loss: 7.2937\n",
      "Epoch 100/400\n",
      "115/115 [==============================] - 10s 90ms/step - loss: 7.2979\n",
      "Epoch 101/400\n",
      "115/115 [==============================] - 10s 90ms/step - loss: 7.2199\n",
      "Epoch 102/400\n",
      "115/115 [==============================] - 10s 90ms/step - loss: 7.3340\n",
      "Epoch 103/400\n",
      "115/115 [==============================] - 10s 90ms/step - loss: 7.2619\n",
      "Epoch 104/400\n",
      "115/115 [==============================] - 10s 90ms/step - loss: 7.1392\n",
      "Epoch 105/400\n",
      "115/115 [==============================] - 10s 90ms/step - loss: 7.1609\n",
      "Epoch 106/400\n",
      "115/115 [==============================] - 10s 90ms/step - loss: 7.3342\n",
      "Epoch 107/400\n",
      "115/115 [==============================] - 10s 90ms/step - loss: 7.2353\n",
      "Epoch 108/400\n",
      "115/115 [==============================] - 10s 90ms/step - loss: 7.1777\n",
      "Epoch 109/400\n",
      "115/115 [==============================] - 10s 90ms/step - loss: 7.2324\n",
      "Epoch 110/400\n",
      "115/115 [==============================] - 10s 90ms/step - loss: 7.3445\n",
      "Epoch 111/400\n",
      "115/115 [==============================] - 10s 90ms/step - loss: 7.2310\n",
      "Epoch 112/400\n",
      "115/115 [==============================] - 10s 90ms/step - loss: 7.1795\n",
      "Epoch 113/400\n",
      "115/115 [==============================] - 10s 90ms/step - loss: 7.1516\n",
      "Epoch 114/400\n",
      "115/115 [==============================] - 10s 90ms/step - loss: 7.1690\n",
      "Epoch 115/400\n",
      "115/115 [==============================] - 10s 90ms/step - loss: 7.1704\n",
      "Epoch 116/400\n",
      "115/115 [==============================] - 10s 90ms/step - loss: 7.1635\n",
      "Epoch 117/400\n",
      "115/115 [==============================] - 10s 90ms/step - loss: 7.1422\n",
      "Epoch 118/400\n",
      "115/115 [==============================] - 10s 90ms/step - loss: 7.1504\n",
      "Epoch 119/400\n",
      "115/115 [==============================] - 10s 90ms/step - loss: 7.0063\n",
      "Epoch 120/400\n",
      "115/115 [==============================] - 10s 90ms/step - loss: 7.1031\n",
      "Epoch 121/400\n",
      "115/115 [==============================] - 10s 91ms/step - loss: 6.9606\n",
      "Epoch 122/400\n",
      "115/115 [==============================] - 10s 90ms/step - loss: 7.1387\n",
      "Epoch 123/400\n",
      "115/115 [==============================] - 10s 90ms/step - loss: 7.0711\n",
      "Epoch 124/400\n",
      "115/115 [==============================] - 10s 90ms/step - loss: 7.1826\n",
      "Epoch 125/400\n",
      "115/115 [==============================] - 10s 91ms/step - loss: 7.1160\n",
      "Epoch 126/400\n",
      "115/115 [==============================] - 10s 91ms/step - loss: 7.0603\n",
      "Epoch 127/400\n",
      "115/115 [==============================] - 10s 90ms/step - loss: 7.1030\n",
      "Epoch 128/400\n",
      "115/115 [==============================] - 10s 90ms/step - loss: 7.1573\n",
      "Epoch 129/400\n",
      "115/115 [==============================] - 10s 90ms/step - loss: 7.1430\n",
      "Epoch 130/400\n",
      "115/115 [==============================] - 10s 90ms/step - loss: 7.0702\n",
      "Epoch 131/400\n",
      "115/115 [==============================] - 10s 90ms/step - loss: 7.0085\n",
      "Epoch 132/400\n",
      "115/115 [==============================] - 10s 90ms/step - loss: 7.0267\n",
      "Epoch 133/400\n",
      "115/115 [==============================] - 10s 90ms/step - loss: 7.0633\n",
      "Epoch 134/400\n",
      "115/115 [==============================] - 10s 90ms/step - loss: 7.0317\n",
      "Epoch 135/400\n",
      "115/115 [==============================] - 10s 90ms/step - loss: 7.0082\n",
      "Epoch 136/400\n",
      "115/115 [==============================] - 10s 90ms/step - loss: 7.1687\n",
      "Epoch 137/400\n",
      "115/115 [==============================] - 10s 90ms/step - loss: 7.0423\n",
      "Epoch 138/400\n",
      "115/115 [==============================] - 10s 90ms/step - loss: 7.0356\n",
      "Epoch 139/400\n",
      "115/115 [==============================] - 10s 90ms/step - loss: 6.9749\n",
      "Epoch 140/400\n",
      "115/115 [==============================] - 10s 90ms/step - loss: 6.9870\n",
      "Epoch 141/400\n",
      "115/115 [==============================] - 10s 90ms/step - loss: 7.0740\n",
      "Epoch 142/400\n",
      "115/115 [==============================] - 10s 90ms/step - loss: 6.8918\n",
      "Epoch 143/400\n",
      "115/115 [==============================] - 10s 90ms/step - loss: 6.9605\n",
      "Epoch 144/400\n",
      "115/115 [==============================] - 10s 90ms/step - loss: 7.0191\n",
      "Epoch 145/400\n",
      "115/115 [==============================] - 10s 90ms/step - loss: 7.0559\n",
      "Epoch 146/400\n",
      "115/115 [==============================] - 10s 90ms/step - loss: 6.9732\n",
      "Epoch 147/400\n",
      "115/115 [==============================] - 10s 90ms/step - loss: 6.9836\n",
      "Epoch 148/400\n",
      "115/115 [==============================] - 10s 90ms/step - loss: 7.0665\n",
      "Epoch 149/400\n",
      "115/115 [==============================] - 10s 90ms/step - loss: 7.0036\n",
      "Epoch 150/400\n",
      "115/115 [==============================] - 10s 90ms/step - loss: 6.9083\n",
      "Epoch 151/400\n",
      "115/115 [==============================] - 10s 90ms/step - loss: 7.1333\n",
      "Epoch 152/400\n",
      "115/115 [==============================] - 10s 90ms/step - loss: 6.9771\n",
      "Epoch 153/400\n",
      "115/115 [==============================] - 10s 90ms/step - loss: 6.9770\n",
      "Epoch 154/400\n",
      "115/115 [==============================] - 10s 90ms/step - loss: 6.9494\n",
      "Epoch 155/400\n",
      "115/115 [==============================] - 10s 90ms/step - loss: 6.9870\n",
      "Epoch 156/400\n",
      "115/115 [==============================] - 10s 90ms/step - loss: 7.0706\n",
      "Epoch 157/400\n",
      "115/115 [==============================] - 10s 90ms/step - loss: 6.9944\n",
      "Epoch 158/400\n",
      "115/115 [==============================] - 10s 90ms/step - loss: 6.9754\n",
      "Epoch 159/400\n",
      "115/115 [==============================] - 10s 90ms/step - loss: 7.0737\n",
      "Epoch 160/400\n",
      "115/115 [==============================] - 10s 90ms/step - loss: 7.0381\n",
      "Epoch 161/400\n",
      "115/115 [==============================] - 10s 90ms/step - loss: 6.7742\n",
      "Epoch 162/400\n",
      "115/115 [==============================] - 10s 90ms/step - loss: 6.9561\n",
      "Epoch 163/400\n",
      "115/115 [==============================] - 10s 90ms/step - loss: 6.9344\n",
      "Epoch 164/400\n",
      "115/115 [==============================] - 10s 90ms/step - loss: 6.8777\n",
      "Epoch 165/400\n",
      "115/115 [==============================] - 10s 90ms/step - loss: 6.9242\n",
      "Epoch 166/400\n",
      "115/115 [==============================] - 10s 90ms/step - loss: 6.9389\n",
      "Epoch 167/400\n",
      "115/115 [==============================] - 10s 90ms/step - loss: 7.0195\n",
      "Epoch 168/400\n",
      "115/115 [==============================] - 10s 90ms/step - loss: 6.9293\n",
      "Epoch 169/400\n",
      "115/115 [==============================] - 10s 90ms/step - loss: 6.9022\n",
      "Epoch 170/400\n",
      "115/115 [==============================] - 10s 90ms/step - loss: 6.9877\n",
      "Epoch 171/400\n",
      "115/115 [==============================] - 10s 90ms/step - loss: 6.8695\n",
      "Epoch 172/400\n",
      "115/115 [==============================] - 10s 90ms/step - loss: 6.9338\n",
      "Epoch 173/400\n",
      "115/115 [==============================] - 10s 90ms/step - loss: 6.8621\n",
      "Epoch 174/400\n",
      "115/115 [==============================] - 10s 90ms/step - loss: 6.8489\n",
      "Epoch 175/400\n",
      "115/115 [==============================] - 10s 90ms/step - loss: 6.8332\n",
      "Epoch 176/400\n",
      "115/115 [==============================] - 10s 90ms/step - loss: 6.9044\n",
      "Epoch 177/400\n",
      "115/115 [==============================] - 10s 90ms/step - loss: 6.9171\n",
      "Epoch 178/400\n",
      "115/115 [==============================] - 10s 90ms/step - loss: 6.8446\n",
      "Epoch 179/400\n",
      "115/115 [==============================] - 10s 90ms/step - loss: 6.9759\n",
      "Epoch 180/400\n",
      "115/115 [==============================] - 10s 90ms/step - loss: 6.9858\n",
      "Epoch 181/400\n",
      "115/115 [==============================] - 10s 90ms/step - loss: 6.9336\n",
      "Epoch 182/400\n",
      "115/115 [==============================] - 10s 90ms/step - loss: 6.8754\n",
      "Epoch 183/400\n",
      "115/115 [==============================] - 10s 90ms/step - loss: 6.9121\n",
      "Epoch 184/400\n",
      "115/115 [==============================] - 10s 90ms/step - loss: 6.9278\n",
      "Epoch 185/400\n",
      "115/115 [==============================] - 10s 90ms/step - loss: 6.9436\n",
      "Epoch 186/400\n",
      "115/115 [==============================] - 10s 90ms/step - loss: 6.9027\n",
      "Epoch 187/400\n",
      "115/115 [==============================] - 10s 90ms/step - loss: 6.8972\n",
      "Epoch 188/400\n",
      "115/115 [==============================] - 10s 90ms/step - loss: 6.8662\n",
      "Epoch 189/400\n",
      "115/115 [==============================] - 10s 91ms/step - loss: 6.8929\n",
      "Epoch 190/400\n",
      "115/115 [==============================] - 10s 90ms/step - loss: 6.8359\n",
      "Epoch 191/400\n",
      "115/115 [==============================] - 10s 91ms/step - loss: 6.9366\n",
      "Epoch 192/400\n",
      "115/115 [==============================] - 10s 90ms/step - loss: 6.9310\n",
      "Epoch 193/400\n",
      "115/115 [==============================] - 10s 90ms/step - loss: 6.9069\n",
      "Epoch 194/400\n",
      "115/115 [==============================] - 10s 90ms/step - loss: 6.9285\n",
      "Epoch 195/400\n",
      "115/115 [==============================] - 10s 90ms/step - loss: 6.9124\n",
      "Epoch 196/400\n",
      "115/115 [==============================] - 10s 90ms/step - loss: 6.8108\n",
      "Epoch 197/400\n",
      "115/115 [==============================] - 10s 90ms/step - loss: 6.8464\n",
      "Epoch 198/400\n",
      "115/115 [==============================] - 10s 90ms/step - loss: 6.7536\n",
      "Epoch 199/400\n",
      "115/115 [==============================] - 10s 90ms/step - loss: 6.8078\n",
      "Epoch 200/400\n",
      "115/115 [==============================] - 10s 90ms/step - loss: 6.7841\n",
      "Epoch 201/400\n",
      "115/115 [==============================] - 10s 90ms/step - loss: 6.9086\n",
      "Epoch 202/400\n",
      "115/115 [==============================] - 10s 90ms/step - loss: 6.9698\n",
      "Epoch 203/400\n",
      "115/115 [==============================] - 10s 90ms/step - loss: 6.8694\n",
      "Epoch 204/400\n",
      "115/115 [==============================] - 10s 90ms/step - loss: 6.8227\n",
      "Epoch 205/400\n",
      "115/115 [==============================] - 10s 90ms/step - loss: 6.8017\n",
      "Epoch 206/400\n",
      "115/115 [==============================] - 10s 90ms/step - loss: 6.7671\n",
      "Epoch 207/400\n",
      "115/115 [==============================] - 10s 90ms/step - loss: 6.8452\n",
      "Epoch 208/400\n",
      "115/115 [==============================] - 10s 90ms/step - loss: 6.9038\n",
      "Epoch 209/400\n",
      "115/115 [==============================] - 10s 90ms/step - loss: 6.8544\n",
      "Epoch 210/400\n",
      "115/115 [==============================] - 10s 90ms/step - loss: 6.8592\n",
      "Epoch 211/400\n",
      "115/115 [==============================] - 10s 90ms/step - loss: 6.9966\n",
      "Epoch 212/400\n",
      "115/115 [==============================] - 10s 90ms/step - loss: 6.8278\n",
      "Epoch 213/400\n",
      "115/115 [==============================] - 10s 90ms/step - loss: 6.8544\n",
      "Epoch 214/400\n",
      "115/115 [==============================] - 10s 89ms/step - loss: 6.9312\n",
      "Epoch 215/400\n",
      "115/115 [==============================] - 10s 89ms/step - loss: 6.8165\n",
      "Epoch 216/400\n",
      "115/115 [==============================] - 10s 90ms/step - loss: 6.7258\n",
      "Epoch 217/400\n",
      "115/115 [==============================] - 10s 90ms/step - loss: 6.9310\n",
      "Epoch 218/400\n",
      "115/115 [==============================] - 10s 90ms/step - loss: 6.8077\n",
      "Epoch 219/400\n",
      "115/115 [==============================] - 10s 89ms/step - loss: 6.8002\n",
      "Epoch 220/400\n",
      "115/115 [==============================] - 10s 90ms/step - loss: 6.7382\n",
      "Epoch 221/400\n",
      "115/115 [==============================] - 10s 90ms/step - loss: 6.8094\n",
      "Epoch 222/400\n",
      "115/115 [==============================] - 10s 89ms/step - loss: 6.7986\n",
      "Epoch 223/400\n",
      "115/115 [==============================] - 10s 90ms/step - loss: 6.8871\n",
      "Epoch 224/400\n",
      "115/115 [==============================] - 10s 90ms/step - loss: 6.7810\n",
      "Epoch 225/400\n",
      "115/115 [==============================] - 10s 90ms/step - loss: 6.8523\n",
      "Epoch 226/400\n",
      "115/115 [==============================] - 10s 90ms/step - loss: 6.8028\n",
      "Epoch 227/400\n",
      "115/115 [==============================] - 10s 90ms/step - loss: 6.7376\n",
      "Epoch 228/400\n",
      "115/115 [==============================] - 10s 89ms/step - loss: 6.6981\n",
      "Epoch 229/400\n",
      "115/115 [==============================] - 10s 90ms/step - loss: 6.8409\n",
      "Epoch 230/400\n",
      "115/115 [==============================] - 10s 90ms/step - loss: 6.7876\n",
      "Epoch 231/400\n",
      "115/115 [==============================] - 10s 90ms/step - loss: 6.7932\n",
      "Epoch 232/400\n",
      "115/115 [==============================] - 10s 90ms/step - loss: 6.8872\n",
      "Epoch 233/400\n",
      "115/115 [==============================] - 10s 90ms/step - loss: 6.7311\n",
      "Epoch 234/400\n",
      "115/115 [==============================] - 10s 90ms/step - loss: 6.7564\n",
      "Epoch 235/400\n",
      "115/115 [==============================] - 10s 89ms/step - loss: 6.7920\n",
      "Epoch 236/400\n",
      "115/115 [==============================] - 10s 90ms/step - loss: 6.6958\n",
      "Epoch 237/400\n",
      "115/115 [==============================] - 10s 90ms/step - loss: 6.7306\n",
      "Epoch 238/400\n",
      "115/115 [==============================] - 10s 89ms/step - loss: 6.7837\n",
      "Epoch 239/400\n",
      "115/115 [==============================] - 10s 89ms/step - loss: 6.7577\n",
      "Epoch 240/400\n",
      "115/115 [==============================] - 10s 90ms/step - loss: 6.7662\n",
      "Epoch 241/400\n",
      "115/115 [==============================] - 10s 89ms/step - loss: 6.9474\n",
      "Epoch 242/400\n",
      "115/115 [==============================] - 10s 89ms/step - loss: 6.6917\n",
      "Epoch 243/400\n",
      "115/115 [==============================] - 10s 90ms/step - loss: 6.7751\n",
      "Epoch 244/400\n",
      "115/115 [==============================] - 10s 90ms/step - loss: 6.8372\n",
      "Epoch 245/400\n",
      "115/115 [==============================] - 10s 90ms/step - loss: 6.7753\n",
      "Epoch 246/400\n",
      "115/115 [==============================] - 10s 90ms/step - loss: 6.9401\n",
      "Epoch 247/400\n",
      "115/115 [==============================] - 10s 90ms/step - loss: 6.7925\n",
      "Epoch 248/400\n",
      "115/115 [==============================] - 10s 89ms/step - loss: 6.8479\n",
      "Epoch 249/400\n",
      "115/115 [==============================] - 10s 90ms/step - loss: 6.6758\n",
      "Epoch 250/400\n",
      "115/115 [==============================] - 10s 90ms/step - loss: 6.7196\n",
      "Epoch 251/400\n",
      "115/115 [==============================] - 10s 90ms/step - loss: 6.7218\n",
      "Epoch 252/400\n",
      "115/115 [==============================] - 10s 90ms/step - loss: 6.7478\n",
      "Epoch 253/400\n",
      "115/115 [==============================] - 10s 90ms/step - loss: 6.7212\n",
      "Epoch 254/400\n",
      "115/115 [==============================] - 10s 90ms/step - loss: 6.7223\n",
      "Epoch 255/400\n",
      "115/115 [==============================] - 10s 89ms/step - loss: 6.6498\n",
      "Epoch 256/400\n",
      "115/115 [==============================] - 10s 90ms/step - loss: 6.7772\n",
      "Epoch 257/400\n",
      "115/115 [==============================] - 10s 90ms/step - loss: 6.7927\n",
      "Epoch 258/400\n",
      "115/115 [==============================] - 10s 90ms/step - loss: 6.8933\n",
      "Epoch 259/400\n",
      "115/115 [==============================] - 10s 89ms/step - loss: 6.6403\n",
      "Epoch 260/400\n",
      "115/115 [==============================] - 10s 89ms/step - loss: 6.7732\n",
      "Epoch 261/400\n",
      "115/115 [==============================] - 10s 90ms/step - loss: 6.7933\n",
      "Epoch 262/400\n",
      "115/115 [==============================] - 10s 89ms/step - loss: 6.7650\n",
      "Epoch 263/400\n",
      "115/115 [==============================] - 10s 89ms/step - loss: 6.5569\n",
      "Epoch 264/400\n",
      "115/115 [==============================] - 10s 90ms/step - loss: 6.7977\n",
      "Epoch 265/400\n",
      "115/115 [==============================] - 10s 90ms/step - loss: 6.6290\n",
      "Epoch 266/400\n",
      "115/115 [==============================] - 11s 95ms/step - loss: 6.6646\n",
      "Epoch 267/400\n",
      "115/115 [==============================] - 10s 91ms/step - loss: 6.5377\n",
      "Epoch 268/400\n",
      "115/115 [==============================] - 10s 90ms/step - loss: 6.7025\n",
      "Epoch 269/400\n",
      "115/115 [==============================] - 10s 90ms/step - loss: 6.7529\n",
      "Epoch 270/400\n",
      "115/115 [==============================] - 10s 90ms/step - loss: 6.7134\n",
      "Epoch 271/400\n",
      "115/115 [==============================] - 10s 90ms/step - loss: 6.7442\n",
      "Epoch 272/400\n",
      "115/115 [==============================] - 10s 90ms/step - loss: 6.6839\n",
      "Epoch 273/400\n",
      "115/115 [==============================] - 10s 90ms/step - loss: 6.6572\n",
      "Epoch 274/400\n",
      "115/115 [==============================] - 10s 90ms/step - loss: 6.7788\n",
      "Epoch 275/400\n",
      "115/115 [==============================] - 10s 90ms/step - loss: 6.6861\n",
      "Epoch 276/400\n",
      "115/115 [==============================] - 10s 90ms/step - loss: 6.8218\n",
      "Epoch 277/400\n",
      "115/115 [==============================] - 10s 90ms/step - loss: 6.6469\n",
      "Epoch 278/400\n",
      "115/115 [==============================] - 10s 90ms/step - loss: 6.8237\n",
      "Epoch 279/400\n",
      "115/115 [==============================] - 10s 90ms/step - loss: 6.8056\n",
      "Epoch 280/400\n",
      "115/115 [==============================] - 10s 90ms/step - loss: 6.6232\n",
      "Epoch 281/400\n",
      "115/115 [==============================] - 10s 90ms/step - loss: 6.7003\n",
      "Epoch 282/400\n",
      "115/115 [==============================] - 10s 90ms/step - loss: 6.7208\n",
      "Epoch 283/400\n",
      "115/115 [==============================] - 10s 90ms/step - loss: 6.6141\n",
      "Epoch 284/400\n",
      "115/115 [==============================] - 10s 90ms/step - loss: 6.7149\n",
      "Epoch 285/400\n",
      "115/115 [==============================] - 11s 95ms/step - loss: 6.6456\n",
      "Epoch 286/400\n",
      "115/115 [==============================] - 10s 90ms/step - loss: 6.6704\n",
      "Epoch 287/400\n",
      "115/115 [==============================] - 10s 90ms/step - loss: 6.6327\n",
      "Epoch 288/400\n",
      "115/115 [==============================] - 10s 90ms/step - loss: 6.6113\n",
      "Epoch 289/400\n",
      "115/115 [==============================] - 10s 90ms/step - loss: 6.7228\n",
      "Epoch 290/400\n",
      "115/115 [==============================] - 10s 90ms/step - loss: 6.6579\n",
      "Epoch 291/400\n",
      "115/115 [==============================] - 10s 90ms/step - loss: 6.5835\n",
      "Epoch 292/400\n",
      "115/115 [==============================] - 10s 90ms/step - loss: 6.7679\n",
      "Epoch 293/400\n",
      "115/115 [==============================] - 10s 90ms/step - loss: 6.6838\n",
      "Epoch 294/400\n",
      "115/115 [==============================] - 10s 90ms/step - loss: 6.6508\n",
      "Epoch 295/400\n",
      "115/115 [==============================] - 10s 90ms/step - loss: 6.6796\n",
      "Epoch 296/400\n",
      "115/115 [==============================] - 10s 90ms/step - loss: 6.6710\n",
      "Epoch 297/400\n",
      "115/115 [==============================] - 10s 89ms/step - loss: 6.6474\n",
      "Epoch 298/400\n",
      "115/115 [==============================] - 11s 95ms/step - loss: 6.7019\n",
      "Epoch 299/400\n",
      "115/115 [==============================] - 11s 92ms/step - loss: 6.5889\n",
      "Epoch 300/400\n",
      "115/115 [==============================] - 10s 90ms/step - loss: 6.6400\n",
      "Epoch 301/400\n",
      "115/115 [==============================] - 10s 90ms/step - loss: 6.8201\n",
      "Epoch 302/400\n",
      "115/115 [==============================] - 10s 90ms/step - loss: 6.6306\n",
      "Epoch 303/400\n",
      "115/115 [==============================] - 10s 90ms/step - loss: 6.6776\n",
      "Epoch 304/400\n",
      "115/115 [==============================] - 10s 90ms/step - loss: 6.6202\n",
      "Epoch 305/400\n",
      "115/115 [==============================] - 10s 90ms/step - loss: 6.6902\n",
      "Epoch 306/400\n",
      "115/115 [==============================] - 10s 89ms/step - loss: 6.6523\n",
      "Epoch 307/400\n",
      "115/115 [==============================] - 10s 90ms/step - loss: 6.6432\n",
      "Epoch 308/400\n",
      "115/115 [==============================] - 10s 90ms/step - loss: 6.6404\n",
      "Epoch 309/400\n",
      "115/115 [==============================] - 10s 90ms/step - loss: 6.5627\n",
      "Epoch 310/400\n",
      "115/115 [==============================] - 10s 91ms/step - loss: 6.6005\n",
      "Epoch 311/400\n",
      "115/115 [==============================] - 10s 90ms/step - loss: 6.4594\n",
      "Epoch 312/400\n",
      "115/115 [==============================] - 10s 90ms/step - loss: 6.6401\n",
      "Epoch 313/400\n",
      "115/115 [==============================] - 10s 90ms/step - loss: 6.6719\n",
      "Epoch 314/400\n",
      "115/115 [==============================] - 10s 91ms/step - loss: 6.6498\n",
      "Epoch 315/400\n",
      "115/115 [==============================] - 10s 90ms/step - loss: 6.7390\n",
      "Epoch 316/400\n",
      "115/115 [==============================] - 10s 90ms/step - loss: 6.5690\n",
      "Epoch 317/400\n",
      "115/115 [==============================] - 10s 90ms/step - loss: 6.6963\n",
      "Epoch 318/400\n",
      "115/115 [==============================] - 10s 90ms/step - loss: 6.6179\n",
      "Epoch 319/400\n",
      "115/115 [==============================] - 10s 90ms/step - loss: 6.7322\n",
      "Epoch 320/400\n",
      "115/115 [==============================] - 10s 90ms/step - loss: 6.6691\n",
      "Epoch 321/400\n",
      "115/115 [==============================] - 10s 90ms/step - loss: 6.5830\n",
      "Epoch 322/400\n",
      "115/115 [==============================] - 10s 90ms/step - loss: 6.6676\n",
      "Epoch 323/400\n",
      "115/115 [==============================] - 10s 90ms/step - loss: 6.6512\n",
      "Epoch 324/400\n",
      "115/115 [==============================] - 10s 90ms/step - loss: 6.6839\n",
      "Epoch 325/400\n",
      "115/115 [==============================] - 10s 90ms/step - loss: 6.6256\n",
      "Epoch 326/400\n",
      "115/115 [==============================] - 10s 90ms/step - loss: 6.6531\n",
      "Epoch 327/400\n",
      "115/115 [==============================] - 10s 90ms/step - loss: 6.6352\n",
      "Epoch 328/400\n",
      "115/115 [==============================] - 10s 90ms/step - loss: 6.6939\n",
      "Epoch 329/400\n",
      "115/115 [==============================] - 10s 90ms/step - loss: 6.6836\n",
      "Epoch 330/400\n",
      "115/115 [==============================] - 10s 90ms/step - loss: 6.5782\n",
      "Epoch 331/400\n",
      "115/115 [==============================] - 10s 90ms/step - loss: 6.4748\n",
      "Epoch 332/400\n",
      "115/115 [==============================] - 10s 90ms/step - loss: 6.6604\n",
      "Epoch 333/400\n",
      "115/115 [==============================] - 10s 90ms/step - loss: 6.6141\n",
      "Epoch 334/400\n",
      "115/115 [==============================] - 10s 90ms/step - loss: 6.6168\n",
      "Epoch 335/400\n",
      "115/115 [==============================] - 10s 90ms/step - loss: 6.5953\n",
      "Epoch 336/400\n",
      "115/115 [==============================] - 10s 90ms/step - loss: 6.6528\n",
      "Epoch 337/400\n",
      "115/115 [==============================] - 10s 90ms/step - loss: 6.4631\n",
      "Epoch 338/400\n",
      "115/115 [==============================] - 10s 90ms/step - loss: 6.6626\n",
      "Epoch 339/400\n",
      "115/115 [==============================] - 10s 90ms/step - loss: 6.4731\n",
      "Epoch 340/400\n",
      "115/115 [==============================] - 10s 90ms/step - loss: 6.4229\n",
      "Epoch 341/400\n",
      "115/115 [==============================] - 10s 90ms/step - loss: 6.6568\n",
      "Epoch 342/400\n",
      "115/115 [==============================] - 10s 90ms/step - loss: 6.7115\n",
      "Epoch 343/400\n",
      "115/115 [==============================] - 10s 90ms/step - loss: 6.4477\n",
      "Epoch 344/400\n",
      "115/115 [==============================] - 10s 90ms/step - loss: 6.6617\n",
      "Epoch 345/400\n",
      "115/115 [==============================] - 10s 90ms/step - loss: 6.5201\n",
      "Epoch 346/400\n",
      "115/115 [==============================] - 10s 90ms/step - loss: 6.6324\n",
      "Epoch 347/400\n",
      "115/115 [==============================] - 10s 90ms/step - loss: 6.6516\n",
      "Epoch 348/400\n",
      "115/115 [==============================] - 10s 90ms/step - loss: 6.6031\n",
      "Epoch 349/400\n",
      "115/115 [==============================] - 10s 90ms/step - loss: 6.6308\n",
      "Epoch 350/400\n",
      "115/115 [==============================] - 10s 90ms/step - loss: 6.6302\n",
      "Epoch 351/400\n",
      "115/115 [==============================] - 10s 90ms/step - loss: 6.5690\n",
      "Epoch 352/400\n",
      "115/115 [==============================] - 10s 90ms/step - loss: 6.5491\n",
      "Epoch 353/400\n",
      "115/115 [==============================] - 10s 90ms/step - loss: 6.5558\n",
      "Epoch 354/400\n",
      "115/115 [==============================] - 10s 90ms/step - loss: 6.6589\n",
      "Epoch 355/400\n",
      "115/115 [==============================] - 10s 90ms/step - loss: 6.6364\n",
      "Epoch 356/400\n",
      "115/115 [==============================] - 10s 90ms/step - loss: 6.5574\n",
      "Epoch 357/400\n",
      "115/115 [==============================] - 10s 90ms/step - loss: 6.6306\n",
      "Epoch 358/400\n",
      "115/115 [==============================] - 10s 90ms/step - loss: 6.7082\n",
      "Epoch 359/400\n",
      "115/115 [==============================] - 10s 90ms/step - loss: 6.5027\n",
      "Epoch 360/400\n",
      "115/115 [==============================] - 10s 89ms/step - loss: 6.7029\n",
      "Epoch 361/400\n",
      "115/115 [==============================] - 10s 90ms/step - loss: 6.4838\n",
      "Epoch 362/400\n",
      "115/115 [==============================] - 10s 90ms/step - loss: 6.4304\n",
      "Epoch 363/400\n",
      "115/115 [==============================] - 10s 90ms/step - loss: 6.7116\n",
      "Epoch 364/400\n",
      "115/115 [==============================] - 10s 90ms/step - loss: 6.5706\n",
      "Epoch 365/400\n",
      "115/115 [==============================] - 10s 90ms/step - loss: 6.5190\n",
      "Epoch 366/400\n",
      "115/115 [==============================] - 10s 90ms/step - loss: 6.5892\n",
      "Epoch 367/400\n",
      "115/115 [==============================] - 10s 89ms/step - loss: 6.5981\n",
      "Epoch 368/400\n",
      "115/115 [==============================] - 10s 90ms/step - loss: 6.5727\n",
      "Epoch 369/400\n",
      "115/115 [==============================] - 10s 90ms/step - loss: 6.4035\n",
      "Epoch 370/400\n",
      "115/115 [==============================] - 10s 90ms/step - loss: 6.3904\n",
      "Epoch 371/400\n",
      "115/115 [==============================] - 10s 90ms/step - loss: 6.6142\n",
      "Epoch 372/400\n",
      "115/115 [==============================] - 10s 90ms/step - loss: 6.6331\n",
      "Epoch 373/400\n",
      "115/115 [==============================] - 10s 90ms/step - loss: 6.5349\n",
      "Epoch 374/400\n",
      "115/115 [==============================] - 10s 90ms/step - loss: 6.7044\n",
      "Epoch 375/400\n",
      "115/115 [==============================] - 10s 90ms/step - loss: 6.5379\n",
      "Epoch 376/400\n",
      "115/115 [==============================] - 10s 91ms/step - loss: 6.4242\n",
      "Epoch 377/400\n",
      "115/115 [==============================] - 10s 90ms/step - loss: 6.5838\n",
      "Epoch 378/400\n",
      "115/115 [==============================] - 10s 90ms/step - loss: 6.6511\n",
      "Epoch 379/400\n",
      "115/115 [==============================] - 10s 90ms/step - loss: 6.5738\n",
      "Epoch 380/400\n",
      "115/115 [==============================] - 10s 90ms/step - loss: 6.5277\n",
      "Epoch 381/400\n",
      "115/115 [==============================] - 10s 90ms/step - loss: 6.4510\n",
      "Epoch 382/400\n",
      "115/115 [==============================] - 10s 90ms/step - loss: 6.5513\n",
      "Epoch 383/400\n",
      "115/115 [==============================] - 10s 90ms/step - loss: 6.5914\n",
      "Epoch 384/400\n",
      "115/115 [==============================] - 10s 90ms/step - loss: 6.4842\n",
      "Epoch 385/400\n",
      "115/115 [==============================] - 10s 90ms/step - loss: 6.5366\n",
      "Epoch 386/400\n",
      "115/115 [==============================] - 10s 90ms/step - loss: 6.4513\n",
      "Epoch 387/400\n",
      "115/115 [==============================] - 10s 90ms/step - loss: 6.5118\n",
      "Epoch 388/400\n",
      "115/115 [==============================] - 10s 90ms/step - loss: 6.5448\n",
      "Epoch 389/400\n",
      "115/115 [==============================] - 10s 90ms/step - loss: 6.2964\n",
      "Epoch 390/400\n",
      "115/115 [==============================] - 10s 90ms/step - loss: 6.4447\n",
      "Epoch 391/400\n",
      "115/115 [==============================] - 10s 90ms/step - loss: 6.5344\n",
      "Epoch 392/400\n",
      "115/115 [==============================] - 10s 90ms/step - loss: 6.4876\n",
      "Epoch 393/400\n",
      "115/115 [==============================] - 10s 89ms/step - loss: 6.4904\n",
      "Epoch 394/400\n",
      "115/115 [==============================] - 10s 90ms/step - loss: 6.3831\n",
      "Epoch 395/400\n",
      "115/115 [==============================] - 10s 90ms/step - loss: 6.4406\n",
      "Epoch 396/400\n",
      "115/115 [==============================] - 10s 90ms/step - loss: 6.4050\n",
      "Epoch 397/400\n",
      "115/115 [==============================] - 10s 90ms/step - loss: 6.4442\n",
      "Epoch 398/400\n",
      "115/115 [==============================] - 10s 90ms/step - loss: 6.6053\n",
      "Epoch 399/400\n",
      "115/115 [==============================] - 10s 90ms/step - loss: 6.4358\n",
      "Epoch 400/400\n",
      "115/115 [==============================] - 10s 90ms/step - loss: 6.5833\n"
     ]
    },
    {
     "data": {
      "text/plain": [
       "<tensorflow.python.keras.callbacks.History at 0x7f684ad7d6d8>"
      ]
     },
     "execution_count": 45,
     "metadata": {
      "tags": []
     },
     "output_type": "execute_result"
    }
   ],
   "source": [
    "reg=KerasRegressor(build_fn=baseline_model,epochs=400,\n",
    "                   batch_size=50, verbose=1)\n",
    "reg.fit(train_img,train.HeadCount)"
   ]
  },
  {
   "cell_type": "code",
   "execution_count": 46,
   "metadata": {
    "colab": {
     "base_uri": "https://localhost:8080/",
     "height": 74
    },
    "colab_type": "code",
    "id": "gvARd-tNiP-j",
    "outputId": "10a3b702-1481-4ff6-e6bf-652dac126077"
   },
   "outputs": [
    {
     "name": "stdout",
     "output_type": "stream",
     "text": [
      " 1/50 [..............................] - ETA: 0sWARNING:tensorflow:Callbacks method `on_predict_batch_end` is slow compared to the batch time (batch time: 0.0036s vs `on_predict_batch_end` time: 0.0338s). Check your callbacks.\n",
      "50/50 [==============================] - 1s 29ms/step\n"
     ]
    }
   ],
   "source": [
    "prediction=reg.predict(test_img,verbose=1)\n"
   ]
  },
  {
   "cell_type": "code",
   "execution_count": 47,
   "metadata": {
    "colab": {
     "base_uri": "https://localhost:8080/",
     "height": 54
    },
    "colab_type": "code",
    "id": "Pyy-3TRvkTcm",
    "outputId": "52173551-6ab6-422d-835f-4c806dabfdde"
   },
   "outputs": [
    {
     "data": {
      "text/plain": [
       "array([4.087053 , 5.1202025, 4.3988433, ..., 3.6997159, 4.6047773,\n",
       "       6.208726 ], dtype=float32)"
      ]
     },
     "execution_count": 47,
     "metadata": {
      "tags": []
     },
     "output_type": "execute_result"
    }
   ],
   "source": [
    "prediction"
   ]
  },
  {
   "cell_type": "code",
   "execution_count": 48,
   "metadata": {
    "colab": {
     "base_uri": "https://localhost:8080/",
     "height": 677
    },
    "colab_type": "code",
    "id": "FQdi_mqskVh0",
    "outputId": "e1846ba2-9ff5-46a6-b784-3be1c4362106"
   },
   "outputs": [
    {
     "data": {
      "text/html": [
       "<div>\n",
       "<style scoped>\n",
       "    .dataframe tbody tr th:only-of-type {\n",
       "        vertical-align: middle;\n",
       "    }\n",
       "\n",
       "    .dataframe tbody tr th {\n",
       "        vertical-align: top;\n",
       "    }\n",
       "\n",
       "    .dataframe thead th {\n",
       "        text-align: right;\n",
       "    }\n",
       "</style>\n",
       "<table border=\"1\" class=\"dataframe\">\n",
       "  <thead>\n",
       "    <tr style=\"text-align: right;\">\n",
       "      <th></th>\n",
       "      <th>Name</th>\n",
       "      <th>HeadCount</th>\n",
       "    </tr>\n",
       "  </thead>\n",
       "  <tbody>\n",
       "    <tr>\n",
       "      <th>2218</th>\n",
       "      <td>17379.jpg</td>\n",
       "      <td>5.809298</td>\n",
       "    </tr>\n",
       "    <tr>\n",
       "      <th>1010</th>\n",
       "      <td>13309.jpg</td>\n",
       "      <td>2.845524</td>\n",
       "    </tr>\n",
       "    <tr>\n",
       "      <th>2347</th>\n",
       "      <td>17827.jpg</td>\n",
       "      <td>2.092411</td>\n",
       "    </tr>\n",
       "    <tr>\n",
       "      <th>1260</th>\n",
       "      <td>14113.jpg</td>\n",
       "      <td>4.874450</td>\n",
       "    </tr>\n",
       "    <tr>\n",
       "      <th>1485</th>\n",
       "      <td>14909.jpg</td>\n",
       "      <td>4.039305</td>\n",
       "    </tr>\n",
       "    <tr>\n",
       "      <th>639</th>\n",
       "      <td>12067.jpg</td>\n",
       "      <td>5.090515</td>\n",
       "    </tr>\n",
       "    <tr>\n",
       "      <th>1902</th>\n",
       "      <td>16344.jpg</td>\n",
       "      <td>4.796994</td>\n",
       "    </tr>\n",
       "    <tr>\n",
       "      <th>2134</th>\n",
       "      <td>17075.jpg</td>\n",
       "      <td>4.188962</td>\n",
       "    </tr>\n",
       "    <tr>\n",
       "      <th>1464</th>\n",
       "      <td>14830.jpg</td>\n",
       "      <td>5.092769</td>\n",
       "    </tr>\n",
       "    <tr>\n",
       "      <th>1036</th>\n",
       "      <td>13386.jpg</td>\n",
       "      <td>3.036891</td>\n",
       "    </tr>\n",
       "    <tr>\n",
       "      <th>2080</th>\n",
       "      <td>16889.jpg</td>\n",
       "      <td>4.802568</td>\n",
       "    </tr>\n",
       "    <tr>\n",
       "      <th>121</th>\n",
       "      <td>10366.jpg</td>\n",
       "      <td>4.709423</td>\n",
       "    </tr>\n",
       "    <tr>\n",
       "      <th>1969</th>\n",
       "      <td>16552.jpg</td>\n",
       "      <td>5.929257</td>\n",
       "    </tr>\n",
       "    <tr>\n",
       "      <th>694</th>\n",
       "      <td>12238.jpg</td>\n",
       "      <td>3.075491</td>\n",
       "    </tr>\n",
       "    <tr>\n",
       "      <th>1691</th>\n",
       "      <td>15648.jpg</td>\n",
       "      <td>4.689340</td>\n",
       "    </tr>\n",
       "    <tr>\n",
       "      <th>1506</th>\n",
       "      <td>14985.jpg</td>\n",
       "      <td>4.730516</td>\n",
       "    </tr>\n",
       "    <tr>\n",
       "      <th>852</th>\n",
       "      <td>12797.jpg</td>\n",
       "      <td>2.532201</td>\n",
       "    </tr>\n",
       "    <tr>\n",
       "      <th>807</th>\n",
       "      <td>12639.jpg</td>\n",
       "      <td>5.304822</td>\n",
       "    </tr>\n",
       "    <tr>\n",
       "      <th>1321</th>\n",
       "      <td>14330.jpg</td>\n",
       "      <td>2.839320</td>\n",
       "    </tr>\n",
       "    <tr>\n",
       "      <th>1283</th>\n",
       "      <td>14184.jpg</td>\n",
       "      <td>7.173604</td>\n",
       "    </tr>\n",
       "  </tbody>\n",
       "</table>\n",
       "</div>"
      ],
      "text/plain": [
       "           Name  HeadCount\n",
       "2218  17379.jpg   5.809298\n",
       "1010  13309.jpg   2.845524\n",
       "2347  17827.jpg   2.092411\n",
       "1260  14113.jpg   4.874450\n",
       "1485  14909.jpg   4.039305\n",
       "639   12067.jpg   5.090515\n",
       "1902  16344.jpg   4.796994\n",
       "2134  17075.jpg   4.188962\n",
       "1464  14830.jpg   5.092769\n",
       "1036  13386.jpg   3.036891\n",
       "2080  16889.jpg   4.802568\n",
       "121   10366.jpg   4.709423\n",
       "1969  16552.jpg   5.929257\n",
       "694   12238.jpg   3.075491\n",
       "1691  15648.jpg   4.689340\n",
       "1506  14985.jpg   4.730516\n",
       "852   12797.jpg   2.532201\n",
       "807   12639.jpg   5.304822\n",
       "1321  14330.jpg   2.839320\n",
       "1283  14184.jpg   7.173604"
      ]
     },
     "execution_count": 48,
     "metadata": {
      "tags": []
     },
     "output_type": "execute_result"
    }
   ],
   "source": [
    "sub=pd.DataFrame({'Name':test.Name, 'HeadCount':prediction})\n",
    "sub.sample(20)"
   ]
  },
  {
   "cell_type": "code",
   "execution_count": 49,
   "metadata": {
    "colab": {},
    "colab_type": "code",
    "id": "8DsApyJAkjyn"
   },
   "outputs": [],
   "source": [
    "sub.to_csv('vision1.csv',index=False)"
   ]
  },
  {
   "cell_type": "code",
   "execution_count": 50,
   "metadata": {
    "colab": {
     "base_uri": "https://localhost:8080/",
     "height": 17
    },
    "colab_type": "code",
    "id": "mkMk9uNPkp07",
    "outputId": "046e971c-fd4d-459a-d7b9-0bcb0c0b989c"
   },
   "outputs": [
    {
     "data": {
      "application/javascript": [
       "\n",
       "    async function download(id, filename, size) {\n",
       "      if (!google.colab.kernel.accessAllowed) {\n",
       "        return;\n",
       "      }\n",
       "      const div = document.createElement('div');\n",
       "      const label = document.createElement('label');\n",
       "      label.textContent = `Downloading \"${filename}\": `;\n",
       "      div.appendChild(label);\n",
       "      const progress = document.createElement('progress');\n",
       "      progress.max = size;\n",
       "      div.appendChild(progress);\n",
       "      document.body.appendChild(div);\n",
       "\n",
       "      const buffers = [];\n",
       "      let downloaded = 0;\n",
       "\n",
       "      const channel = await google.colab.kernel.comms.open(id);\n",
       "      // Send a message to notify the kernel that we're ready.\n",
       "      channel.send({})\n",
       "\n",
       "      for await (const message of channel.messages) {\n",
       "        // Send a message to notify the kernel that we're ready.\n",
       "        channel.send({})\n",
       "        if (message.buffers) {\n",
       "          for (const buffer of message.buffers) {\n",
       "            buffers.push(buffer);\n",
       "            downloaded += buffer.byteLength;\n",
       "            progress.value = downloaded;\n",
       "          }\n",
       "        }\n",
       "      }\n",
       "      const blob = new Blob(buffers, {type: 'application/binary'});\n",
       "      const a = document.createElement('a');\n",
       "      a.href = window.URL.createObjectURL(blob);\n",
       "      a.download = filename;\n",
       "      div.appendChild(a);\n",
       "      a.click();\n",
       "      div.remove();\n",
       "    }\n",
       "  "
      ],
      "text/plain": [
       "<IPython.core.display.Javascript object>"
      ]
     },
     "metadata": {
      "tags": []
     },
     "output_type": "display_data"
    },
    {
     "data": {
      "application/javascript": [
       "download(\"download_6933a172-66ad-430f-8e95-7aa0c021ba30\", \"vision1.csv\", 48191)"
      ],
      "text/plain": [
       "<IPython.core.display.Javascript object>"
      ]
     },
     "metadata": {
      "tags": []
     },
     "output_type": "display_data"
    }
   ],
   "source": [
    "from google.colab import files\n",
    "files.download(\"vision1.csv\")"
   ]
  },
  {
   "cell_type": "code",
   "execution_count": null,
   "metadata": {
    "colab": {},
    "colab_type": "code",
    "id": "Xe9vXNOI8h0G"
   },
   "outputs": [],
   "source": []
  }
 ],
 "metadata": {
  "accelerator": "GPU",
  "colab": {
   "name": "Face Counting  Challenge",
   "provenance": []
  },
  "kernelspec": {
   "display_name": "Python 3",
   "language": "python",
   "name": "python3"
  },
  "language_info": {
   "codemirror_mode": {
    "name": "ipython",
    "version": 3
   },
   "file_extension": ".py",
   "mimetype": "text/x-python",
   "name": "python",
   "nbconvert_exporter": "python",
   "pygments_lexer": "ipython3",
   "version": "3.8.5"
  }
 },
 "nbformat": 4,
 "nbformat_minor": 1
}
